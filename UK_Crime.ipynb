{
 "cells": [
  {
   "cell_type": "markdown",
   "metadata": {
    "application/vnd.databricks.v1+cell": {
     "inputWidgets": {},
     "nuid": "a72c2f35-b225-4353-8f1e-48d59f7fa5c3",
     "showTitle": false,
     "title": ""
    }
   },
   "source": [
    "<font size='4'><b>Problem statement:</b> In the television documentary “Ross Kemp and the Armed Police” broadcast 6th September 2018 by ITV, multiple claims were made regarding violent crime in the UK.<br/><br/>\n",
    "These claims were:\n",
    "1.\tViolent Crime is increasing\n",
    "2.\tThere are more firearms incidents per head in Birmingham than anywhere else in the UK\n",
    "3.\tCrimes involving firearms are closely associated with drugs offences<br/><br/>\n",
    "In this assignment you will investigate these claims using real, publicly available data sets that will be made available to you and placed in Amazon S3. </font>"
   ]
  },
  {
   "cell_type": "markdown",
   "metadata": {
    "application/vnd.databricks.v1+cell": {
     "inputWidgets": {},
     "nuid": "b4c05dbb-981d-4794-a7a3-63e5209f062e",
     "showTitle": false,
     "title": ""
    }
   },
   "source": [
    "<br/><br/>"
   ]
  },
  {
   "cell_type": "code",
   "execution_count": 0,
   "metadata": {
    "application/vnd.databricks.v1+cell": {
     "inputWidgets": {},
     "nuid": "fb35d973-23d1-4cef-b253-98d2d5a6abdc",
     "showTitle": false,
     "title": ""
    }
   },
   "outputs": [
    {
     "data": {
      "text/html": [
       "<style scoped>\n",
       "  .ansiout {\n",
       "    display: block;\n",
       "    unicode-bidi: embed;\n",
       "    white-space: pre-wrap;\n",
       "    word-wrap: break-word;\n",
       "    word-break: break-all;\n",
       "    font-family: \"Source Code Pro\", \"Menlo\", monospace;;\n",
       "    font-size: 13px;\n",
       "    color: #555;\n",
       "    margin-left: 4px;\n",
       "    line-height: 19px;\n",
       "  }\n",
       "</style>\n",
       "<div class=\"ansiout\"></div>"
      ]
     },
     "metadata": {
      "application/vnd.databricks.v1+output": {
       "addedWidgets": {},
       "arguments": {},
       "data": "<div class=\"ansiout\"></div>",
       "datasetInfos": [],
       "removedWidgets": [],
       "type": "html"
      }
     },
     "output_type": "display_data"
    }
   ],
   "source": [
    "# Importing count function\n",
    "from pyspark.sql.functions import count,col\n",
    "import pyspark.sql.functions as func\n",
    "\n",
    "from pyspark.ml.clustering import KMeans\n",
    "from pyspark.ml.feature import VectorAssembler\n",
    "\n",
    "import seaborn as sns\n",
    "import matplotlib.pyplot as plt\n",
    "%matplotlib inline\n"
   ]
  },
  {
   "cell_type": "code",
   "execution_count": 0,
   "metadata": {
    "application/vnd.databricks.v1+cell": {
     "inputWidgets": {},
     "nuid": "6fa3345a-54d9-4376-8fdd-4094de0f4975",
     "showTitle": false,
     "title": ""
    }
   },
   "outputs": [
    {
     "data": {
      "text/html": [
       "<style scoped>\n",
       "  .ansiout {\n",
       "    display: block;\n",
       "    unicode-bidi: embed;\n",
       "    white-space: pre-wrap;\n",
       "    word-wrap: break-word;\n",
       "    word-break: break-all;\n",
       "    font-family: \"Source Code Pro\", \"Menlo\", monospace;;\n",
       "    font-size: 13px;\n",
       "    color: #555;\n",
       "    margin-left: 4px;\n",
       "    line-height: 19px;\n",
       "  }\n",
       "</style>\n",
       "<div class=\"ansiout\"></div>"
      ]
     },
     "metadata": {
      "application/vnd.databricks.v1+output": {
       "addedWidgets": {},
       "arguments": {},
       "data": "<div class=\"ansiout\"></div>",
       "datasetInfos": [],
       "removedWidgets": [],
       "type": "html"
      }
     },
     "output_type": "display_data"
    }
   ],
   "source": [
    "# Ignoring warnings.\n",
    "import warnings\n",
    "warnings.filterwarnings('ignore')"
   ]
  },
  {
   "cell_type": "code",
   "execution_count": 0,
   "metadata": {
    "application/vnd.databricks.v1+cell": {
     "inputWidgets": {},
     "nuid": "b27c46a8-947d-4eca-a5a4-5e84439563e8",
     "showTitle": false,
     "title": ""
    }
   },
   "outputs": [
    {
     "data": {
      "text/html": [
       "<style scoped>\n",
       "  .ansiout {\n",
       "    display: block;\n",
       "    unicode-bidi: embed;\n",
       "    white-space: pre-wrap;\n",
       "    word-wrap: break-word;\n",
       "    word-break: break-all;\n",
       "    font-family: \"Source Code Pro\", \"Menlo\", monospace;;\n",
       "    font-size: 13px;\n",
       "    color: #555;\n",
       "    margin-left: 4px;\n",
       "    line-height: 19px;\n",
       "  }\n",
       "</style>\n",
       "<div class=\"ansiout\">Out[42]: (&#39;/tmp/tmp_jaq8rci&#39;, &lt;http.client.HTTPMessage at 0x7feb88aef550&gt;)</div>"
      ]
     },
     "metadata": {
      "application/vnd.databricks.v1+output": {
       "addedWidgets": {},
       "arguments": {},
       "data": "<div class=\"ansiout\">Out[42]: (&#39;/tmp/tmp_jaq8rci&#39;, &lt;http.client.HTTPMessage at 0x7feb88aef550&gt;)</div>",
       "datasetInfos": [],
       "removedWidgets": [],
       "type": "html"
      }
     },
     "output_type": "display_data"
    }
   ],
   "source": [
    "# Use this path for big data.\n",
    "# import urllib.request\n",
    "# urllib.request.urlretrieve(\"https://s3.amazonaws.com/kf7032-20.northumbria.ac.uk/all_crimes18_hdr.txt.gz\")"
   ]
  },
  {
   "cell_type": "code",
   "execution_count": 0,
   "metadata": {
    "application/vnd.databricks.v1+cell": {
     "inputWidgets": {},
     "nuid": "d30692cf-6ce8-4630-b05b-f553f9636b74",
     "showTitle": false,
     "title": ""
    }
   },
   "outputs": [
    {
     "data": {
      "text/html": [
       "<style scoped>\n",
       "  .ansiout {\n",
       "    display: block;\n",
       "    unicode-bidi: embed;\n",
       "    white-space: pre-wrap;\n",
       "    word-wrap: break-word;\n",
       "    word-break: break-all;\n",
       "    font-family: \"Source Code Pro\", \"Menlo\", monospace;;\n",
       "    font-size: 13px;\n",
       "    color: #555;\n",
       "    margin-left: 4px;\n",
       "    line-height: 19px;\n",
       "  }\n",
       "</style>\n",
       "<div class=\"ansiout\"></div>"
      ]
     },
     "metadata": {
      "application/vnd.databricks.v1+output": {
       "addedWidgets": {},
       "arguments": {},
       "data": "<div class=\"ansiout\"></div>",
       "datasetInfos": [],
       "removedWidgets": [],
       "type": "html"
      }
     },
     "output_type": "display_data"
    },
    {
     "data": {
      "text/html": [
       "<style scoped>\n",
       "  .ansiout {\n",
       "    display: block;\n",
       "    unicode-bidi: embed;\n",
       "    white-space: pre-wrap;\n",
       "    word-wrap: break-word;\n",
       "    word-break: break-all;\n",
       "    font-family: \"Source Code Pro\", \"Menlo\", monospace;;\n",
       "    font-size: 13px;\n",
       "    color: #555;\n",
       "    margin-left: 4px;\n",
       "    line-height: 19px;\n",
       "  }\n",
       "</style>"
      ]
     },
     "metadata": {
      "application/vnd.databricks.v1+output": {
       "arguments": {},
       "data": "",
       "errorSummary": "Cancelled",
       "type": "ipynbError"
      }
     },
     "output_type": "display_data"
    }
   ],
   "source": [
    "# Moving data from 'temp' folder to Databricks file system\n",
    "# dbutils.fs.mv(\"file:/tmp/tmp_jaq8rci\",\"dbfs:/data/all_crimes18_hdr.txt.gz\")\n",
    "# Output: True indicates successful move."
   ]
  },
  {
   "cell_type": "code",
   "execution_count": 0,
   "metadata": {
    "application/vnd.databricks.v1+cell": {
     "inputWidgets": {},
     "nuid": "28c027eb-5c10-4ef2-95b0-3ce836dc38f9",
     "showTitle": false,
     "title": ""
    }
   },
   "outputs": [
    {
     "data": {
      "text/html": [
       "<style scoped>\n",
       "  .ansiout {\n",
       "    display: block;\n",
       "    unicode-bidi: embed;\n",
       "    white-space: pre-wrap;\n",
       "    word-wrap: break-word;\n",
       "    word-break: break-all;\n",
       "    font-family: \"Source Code Pro\", \"Menlo\", monospace;;\n",
       "    font-size: 13px;\n",
       "    color: #555;\n",
       "    margin-left: 4px;\n",
       "    line-height: 19px;\n",
       "  }\n",
       "</style>\n",
       "<div class=\"ansiout\"></div>"
      ]
     },
     "metadata": {
      "application/vnd.databricks.v1+output": {
       "addedWidgets": {},
       "arguments": {},
       "data": "<div class=\"ansiout\"></div>",
       "datasetInfos": [],
       "removedWidgets": [],
       "type": "html"
      }
     },
     "output_type": "display_data"
    }
   ],
   "source": [
    "# Reading the text file\n",
    "txt=sc.textFile(\"FileStore/tables/crimes_2018_only_txt.gz\")\n",
    "# Assigning the first line to header."
   ]
  },
  {
   "cell_type": "markdown",
   "metadata": {
    "application/vnd.databricks.v1+cell": {
     "inputWidgets": {},
     "nuid": "b5d05f44-6963-4042-83d5-e8d106033c13",
     "showTitle": false,
     "title": ""
    }
   },
   "source": [
    "##### Note: 2018 dataset does not have header, we need to set it manually."
   ]
  },
  {
   "cell_type": "code",
   "execution_count": 0,
   "metadata": {
    "application/vnd.databricks.v1+cell": {
     "inputWidgets": {},
     "nuid": "ad4537ad-b9dd-40c4-a9a5-766eb18e89a7",
     "showTitle": false,
     "title": ""
    }
   },
   "outputs": [
    {
     "data": {
      "text/html": [
       "<style scoped>\n",
       "  .ansiout {\n",
       "    display: block;\n",
       "    unicode-bidi: embed;\n",
       "    white-space: pre-wrap;\n",
       "    word-wrap: break-word;\n",
       "    word-break: break-all;\n",
       "    font-family: \"Source Code Pro\", \"Menlo\", monospace;;\n",
       "    font-size: 13px;\n",
       "    color: #555;\n",
       "    margin-left: 4px;\n",
       "    line-height: 19px;\n",
       "  }\n",
       "</style>\n",
       "<div class=\"ansiout\"></div>"
      ]
     },
     "metadata": {
      "application/vnd.databricks.v1+output": {
       "addedWidgets": {},
       "arguments": {},
       "data": "<div class=\"ansiout\"></div>",
       "datasetInfos": [],
       "removedWidgets": [],
       "type": "html"
      }
     },
     "output_type": "display_data"
    }
   ],
   "source": [
    "header='Crime_ID,Month,Reported_by,Falls_within,Longitude,Latitude,Location,LSOA_code,LSOA_name,Crime_type,Last_outcome_category,Context'"
   ]
  },
  {
   "cell_type": "code",
   "execution_count": 0,
   "metadata": {
    "application/vnd.databricks.v1+cell": {
     "inputWidgets": {},
     "nuid": "fb40764f-f4a3-4604-93cf-07da6fb94f79",
     "showTitle": false,
     "title": ""
    }
   },
   "outputs": [
    {
     "data": {
      "text/html": [
       "<style scoped>\n",
       "  .ansiout {\n",
       "    display: block;\n",
       "    unicode-bidi: embed;\n",
       "    white-space: pre-wrap;\n",
       "    word-wrap: break-word;\n",
       "    word-break: break-all;\n",
       "    font-family: \"Source Code Pro\", \"Menlo\", monospace;;\n",
       "    font-size: 13px;\n",
       "    color: #555;\n",
       "    margin-left: 4px;\n",
       "    line-height: 19px;\n",
       "  }\n",
       "</style>\n",
       "<div class=\"ansiout\">Out[5]: [&#39;4b89599348c51bcc80abf2fab1e55537b9f5473e9cd654259681be101beda819,2018-01,Avon and Somerset Constabulary,Avon and Somerset Constabulary,0.489518,51.560445,On or near Whytewaters,E01021311,Basildon 022C,Other crime,Investigation complete; no suspect identified,&#39;,\n",
       " &#39;,2018-01,Avon and Somerset Constabulary,Avon and Somerset Constabulary,-2.516919,51.423683,On or near A4175,E01014399,Bath and North East Somerset 001A,Anti-social behaviour,,&#39;,\n",
       " &#39;74128ab275c1aa107d67cd59d1d3210bd9fdc976e0c2c6b6aad058a9ef3f4e8d,2018-01,Avon and Somerset Constabulary,Avon and Somerset Constabulary,-2.515072,51.419357,On or near Stockwood Hill,E01014399,Bath and North East Somerset 001A,Burglary,Status update unavailable,&#39;,\n",
       " &#39;0417b3f4363b480f4d4c2a826be8cd4a957fffb818873e73bf3662698e2d734c,2018-01,Avon and Somerset Constabulary,Avon and Somerset Constabulary,-2.515816,51.408717,On or near Caroline Close,E01014399,Bath and North East Somerset 001A,Criminal damage and arson,Further investigation is not in the public interest,&#39;,\n",
       " &#39;0a404693ae14efee16186c98d4e63d5f2d1fc29d5efb1e317ce3e8a8e5f49733,2018-01,Avon and Somerset Constabulary,Avon and Somerset Constabulary,-2.494870,51.422276,On or near Conference/Exhibition Centre,E01014399,Bath and North East Somerset 001A,Criminal damage and arson,Status update unavailable,&#39;,\n",
       " &#39;2f02418280c300288de3aec278619e2b0fcfc8c83e7ffe552504660f489a4683,2018-01,Avon and Somerset Constabulary,Avon and Somerset Constabulary,-2.495055,51.422132,On or near Cross Street,E01014399,Bath and North East Somerset 001A,Criminal damage and arson,Status update unavailable,&#39;,\n",
       " &#39;32260926ecfec610aee50ab09c8041610df9b67c78034b1309bec610d4fb2aaf,2018-01,Avon and Somerset Constabulary,Avon and Somerset Constabulary,-2.512773,51.411751,On or near Westfield Close,E01014399,Bath and North East Somerset 001A,Other theft,Status update unavailable,&#39;,\n",
       " &#39;d1570aef4546eb5ae4e8b1976db9e0d009ca531f9bb642ab03a8def8231d8321,2018-01,Avon and Somerset Constabulary,Avon and Somerset Constabulary,-2.511761,51.409966,On or near Caernarvon Close,E01014399,Bath and North East Somerset 001A,Possession of weapons,Status update unavailable,&#39;,\n",
       " &#39;ba51a848551dbff1d99c1dcb3b2bd512b9508cda54c103c13345e748df869d82,2018-01,Avon and Somerset Constabulary,Avon and Somerset Constabulary,-2.515072,51.419357,On or near Stockwood Hill,E01014399,Bath and North East Somerset 001A,Public order,Status update unavailable,&#39;,\n",
       " &#39;e36cb6ffeb39683b4406decd6706d38ac08f766e3be3dc9991ad5b6c942e410d,2018-01,Avon and Somerset Constabulary,Avon and Somerset Constabulary,-2.513343,51.408772,On or near Lincoln Close,E01014399,Bath and North East Somerset 001A,Vehicle crime,Status update unavailable,&#39;]</div>"
      ]
     },
     "metadata": {
      "application/vnd.databricks.v1+output": {
       "addedWidgets": {},
       "arguments": {},
       "data": "<div class=\"ansiout\">Out[5]: [&#39;4b89599348c51bcc80abf2fab1e55537b9f5473e9cd654259681be101beda819,2018-01,Avon and Somerset Constabulary,Avon and Somerset Constabulary,0.489518,51.560445,On or near Whytewaters,E01021311,Basildon 022C,Other crime,Investigation complete; no suspect identified,&#39;,\n &#39;,2018-01,Avon and Somerset Constabulary,Avon and Somerset Constabulary,-2.516919,51.423683,On or near A4175,E01014399,Bath and North East Somerset 001A,Anti-social behaviour,,&#39;,\n &#39;74128ab275c1aa107d67cd59d1d3210bd9fdc976e0c2c6b6aad058a9ef3f4e8d,2018-01,Avon and Somerset Constabulary,Avon and Somerset Constabulary,-2.515072,51.419357,On or near Stockwood Hill,E01014399,Bath and North East Somerset 001A,Burglary,Status update unavailable,&#39;,\n &#39;0417b3f4363b480f4d4c2a826be8cd4a957fffb818873e73bf3662698e2d734c,2018-01,Avon and Somerset Constabulary,Avon and Somerset Constabulary,-2.515816,51.408717,On or near Caroline Close,E01014399,Bath and North East Somerset 001A,Criminal damage and arson,Further investigation is not in the public interest,&#39;,\n &#39;0a404693ae14efee16186c98d4e63d5f2d1fc29d5efb1e317ce3e8a8e5f49733,2018-01,Avon and Somerset Constabulary,Avon and Somerset Constabulary,-2.494870,51.422276,On or near Conference/Exhibition Centre,E01014399,Bath and North East Somerset 001A,Criminal damage and arson,Status update unavailable,&#39;,\n &#39;2f02418280c300288de3aec278619e2b0fcfc8c83e7ffe552504660f489a4683,2018-01,Avon and Somerset Constabulary,Avon and Somerset Constabulary,-2.495055,51.422132,On or near Cross Street,E01014399,Bath and North East Somerset 001A,Criminal damage and arson,Status update unavailable,&#39;,\n &#39;32260926ecfec610aee50ab09c8041610df9b67c78034b1309bec610d4fb2aaf,2018-01,Avon and Somerset Constabulary,Avon and Somerset Constabulary,-2.512773,51.411751,On or near Westfield Close,E01014399,Bath and North East Somerset 001A,Other theft,Status update unavailable,&#39;,\n &#39;d1570aef4546eb5ae4e8b1976db9e0d009ca531f9bb642ab03a8def8231d8321,2018-01,Avon and Somerset Constabulary,Avon and Somerset Constabulary,-2.511761,51.409966,On or near Caernarvon Close,E01014399,Bath and North East Somerset 001A,Possession of weapons,Status update unavailable,&#39;,\n &#39;ba51a848551dbff1d99c1dcb3b2bd512b9508cda54c103c13345e748df869d82,2018-01,Avon and Somerset Constabulary,Avon and Somerset Constabulary,-2.515072,51.419357,On or near Stockwood Hill,E01014399,Bath and North East Somerset 001A,Public order,Status update unavailable,&#39;,\n &#39;e36cb6ffeb39683b4406decd6706d38ac08f766e3be3dc9991ad5b6c942e410d,2018-01,Avon and Somerset Constabulary,Avon and Somerset Constabulary,-2.513343,51.408772,On or near Lincoln Close,E01014399,Bath and North East Somerset 001A,Vehicle crime,Status update unavailable,&#39;]</div>",
       "datasetInfos": [],
       "removedWidgets": [],
       "type": "html"
      }
     },
     "output_type": "display_data"
    }
   ],
   "source": [
    "txt.take(10)"
   ]
  },
  {
   "cell_type": "markdown",
   "metadata": {
    "application/vnd.databricks.v1+cell": {
     "inputWidgets": {},
     "nuid": "6e4c0753-47ab-4bf4-b981-6eb1e356057b",
     "showTitle": false,
     "title": ""
    }
   },
   "source": [
    "##### Note: Below step is very important as data contained ',' values embedded in strings which was causing numerous errors in schema. Here, we are rejecting all the lines which have ',' value embedded in string. i.e. we are allowing only 12 values. If after spliting, number of values is more than 12, it indicates occurance of ',' within strings."
   ]
  },
  {
   "cell_type": "code",
   "execution_count": 0,
   "metadata": {
    "application/vnd.databricks.v1+cell": {
     "inputWidgets": {},
     "nuid": "441bb9df-4fff-4447-8bde-524acf95129f",
     "showTitle": false,
     "title": ""
    }
   },
   "outputs": [
    {
     "data": {
      "text/html": [
       "<style scoped>\n",
       "  .ansiout {\n",
       "    display: block;\n",
       "    unicode-bidi: embed;\n",
       "    white-space: pre-wrap;\n",
       "    word-wrap: break-word;\n",
       "    word-break: break-all;\n",
       "    font-family: \"Source Code Pro\", \"Menlo\", monospace;;\n",
       "    font-size: 13px;\n",
       "    color: #555;\n",
       "    margin-left: 4px;\n",
       "    line-height: 19px;\n",
       "  }\n",
       "</style>\n",
       "<div class=\"ansiout\"></div>"
      ]
     },
     "metadata": {
      "application/vnd.databricks.v1+output": {
       "addedWidgets": {},
       "arguments": {},
       "data": "<div class=\"ansiout\"></div>",
       "datasetInfos": [],
       "removedWidgets": [],
       "type": "html"
      }
     },
     "output_type": "display_data"
    }
   ],
   "source": [
    "# Filtering corrupt data.\n",
    "txt = txt.filter(lambda line: len(line.split(\",\"))==12)"
   ]
  },
  {
   "cell_type": "code",
   "execution_count": 0,
   "metadata": {
    "application/vnd.databricks.v1+cell": {
     "inputWidgets": {},
     "nuid": "85db886b-f42c-4b6d-afc8-8cee20866b2b",
     "showTitle": false,
     "title": ""
    }
   },
   "outputs": [
    {
     "data": {
      "text/html": [
       "<style scoped>\n",
       "  .ansiout {\n",
       "    display: block;\n",
       "    unicode-bidi: embed;\n",
       "    white-space: pre-wrap;\n",
       "    word-wrap: break-word;\n",
       "    word-break: break-all;\n",
       "    font-family: \"Source Code Pro\", \"Menlo\", monospace;;\n",
       "    font-size: 13px;\n",
       "    color: #555;\n",
       "    margin-left: 4px;\n",
       "    line-height: 19px;\n",
       "  }\n",
       "</style>\n",
       "<div class=\"ansiout\"></div>"
      ]
     },
     "metadata": {
      "application/vnd.databricks.v1+output": {
       "addedWidgets": {},
       "arguments": {},
       "data": "<div class=\"ansiout\"></div>",
       "datasetInfos": [],
       "removedWidgets": [],
       "type": "html"
      }
     },
     "output_type": "display_data"
    }
   ],
   "source": [
    "# Assigning split values to a temporary variable.\n",
    "temp_var = txt.map(lambda k: k.split(\",\"))"
   ]
  },
  {
   "cell_type": "code",
   "execution_count": 0,
   "metadata": {
    "application/vnd.databricks.v1+cell": {
     "inputWidgets": {},
     "nuid": "d8c3983e-cac5-4f62-a1cc-aaa8bd2eeea3",
     "showTitle": false,
     "title": ""
    }
   },
   "outputs": [
    {
     "data": {
      "text/html": [
       "<style scoped>\n",
       "  .ansiout {\n",
       "    display: block;\n",
       "    unicode-bidi: embed;\n",
       "    white-space: pre-wrap;\n",
       "    word-wrap: break-word;\n",
       "    word-break: break-all;\n",
       "    font-family: \"Source Code Pro\", \"Menlo\", monospace;;\n",
       "    font-size: 13px;\n",
       "    color: #555;\n",
       "    margin-left: 4px;\n",
       "    line-height: 19px;\n",
       "  }\n",
       "</style>\n",
       "<div class=\"ansiout\"></div>"
      ]
     },
     "metadata": {
      "application/vnd.databricks.v1+output": {
       "addedWidgets": {},
       "arguments": {},
       "data": "<div class=\"ansiout\"></div>",
       "datasetInfos": [
        {
         "name": "df",
         "schema": {
          "fields": [
           {
            "metadata": {},
            "name": "Crime_ID",
            "nullable": true,
            "type": "string"
           },
           {
            "metadata": {},
            "name": "Month",
            "nullable": true,
            "type": "string"
           },
           {
            "metadata": {},
            "name": "Reported_by",
            "nullable": true,
            "type": "string"
           },
           {
            "metadata": {},
            "name": "Falls_within",
            "nullable": true,
            "type": "string"
           },
           {
            "metadata": {},
            "name": "Longitude",
            "nullable": true,
            "type": "string"
           },
           {
            "metadata": {},
            "name": "Latitude",
            "nullable": true,
            "type": "string"
           },
           {
            "metadata": {},
            "name": "Location",
            "nullable": true,
            "type": "string"
           },
           {
            "metadata": {},
            "name": "LSOA_code",
            "nullable": true,
            "type": "string"
           },
           {
            "metadata": {},
            "name": "LSOA_name",
            "nullable": true,
            "type": "string"
           },
           {
            "metadata": {},
            "name": "Crime_type",
            "nullable": true,
            "type": "string"
           },
           {
            "metadata": {},
            "name": "Last_outcome_category",
            "nullable": true,
            "type": "string"
           },
           {
            "metadata": {},
            "name": "Context",
            "nullable": true,
            "type": "string"
           }
          ],
          "type": "struct"
         },
         "tableIdentifier": null,
         "typeStr": "pyspark.sql.dataframe.DataFrame"
        }
       ],
       "removedWidgets": [],
       "type": "html"
      }
     },
     "output_type": "display_data"
    }
   ],
   "source": [
    "# Converting data in the temporary variable into a Spark dataframe.\n",
    "df=temp_var.toDF(header.split(\",\"))"
   ]
  },
  {
   "cell_type": "code",
   "execution_count": 0,
   "metadata": {
    "application/vnd.databricks.v1+cell": {
     "inputWidgets": {},
     "nuid": "677fc588-562d-4699-889e-57cdf7d88153",
     "showTitle": false,
     "title": ""
    }
   },
   "outputs": [
    {
     "data": {
      "text/html": [
       "<style scoped>\n",
       "  .ansiout {\n",
       "    display: block;\n",
       "    unicode-bidi: embed;\n",
       "    white-space: pre-wrap;\n",
       "    word-wrap: break-word;\n",
       "    word-break: break-all;\n",
       "    font-family: \"Source Code Pro\", \"Menlo\", monospace;;\n",
       "    font-size: 13px;\n",
       "    color: #555;\n",
       "    margin-left: 4px;\n",
       "    line-height: 19px;\n",
       "  }\n",
       "</style>\n",
       "<div class=\"ansiout\">+--------------------+-------+--------------------+--------------------+---------+---------+--------------------+---------+--------------------+--------------------+---------------------+-------+\n",
       "            Crime_ID|  Month|         Reported_by|        Falls_within|Longitude| Latitude|            Location|LSOA_code|           LSOA_name|          Crime_type|Last_outcome_category|Context|\n",
       "+--------------------+-------+--------------------+--------------------+---------+---------+--------------------+---------+--------------------+--------------------+---------------------+-------+\n",
       "4b89599348c51bcc8...|2018-01|Avon and Somerset...|Avon and Somerset...| 0.489518|51.560445|On or near Whytew...|E01021311|       Basildon 022C|         Other crime| Investigation com...|       |\n",
       "                    |2018-01|Avon and Somerset...|Avon and Somerset...|-2.516919|51.423683|    On or near A4175|E01014399|Bath and North Ea...|Anti-social behav...|                     |       |\n",
       "74128ab275c1aa107...|2018-01|Avon and Somerset...|Avon and Somerset...|-2.515072|51.419357|On or near Stockw...|E01014399|Bath and North Ea...|            Burglary| Status update una...|       |\n",
       "0417b3f4363b480f4...|2018-01|Avon and Somerset...|Avon and Somerset...|-2.515816|51.408717|On or near Caroli...|E01014399|Bath and North Ea...|Criminal damage a...| Further investiga...|       |\n",
       "0a404693ae14efee1...|2018-01|Avon and Somerset...|Avon and Somerset...|-2.494870|51.422276|On or near Confer...|E01014399|Bath and North Ea...|Criminal damage a...| Status update una...|       |\n",
       "2f02418280c300288...|2018-01|Avon and Somerset...|Avon and Somerset...|-2.495055|51.422132|On or near Cross ...|E01014399|Bath and North Ea...|Criminal damage a...| Status update una...|       |\n",
       "32260926ecfec610a...|2018-01|Avon and Somerset...|Avon and Somerset...|-2.512773|51.411751|On or near Westfi...|E01014399|Bath and North Ea...|         Other theft| Status update una...|       |\n",
       "d1570aef4546eb5ae...|2018-01|Avon and Somerset...|Avon and Somerset...|-2.511761|51.409966|On or near Caerna...|E01014399|Bath and North Ea...|Possession of wea...| Status update una...|       |\n",
       "ba51a848551dbff1d...|2018-01|Avon and Somerset...|Avon and Somerset...|-2.515072|51.419357|On or near Stockw...|E01014399|Bath and North Ea...|        Public order| Status update una...|       |\n",
       "e36cb6ffeb39683b4...|2018-01|Avon and Somerset...|Avon and Somerset...|-2.513343|51.408772|On or near Lincol...|E01014399|Bath and North Ea...|       Vehicle crime| Status update una...|       |\n",
       "+--------------------+-------+--------------------+--------------------+---------+---------+--------------------+---------+--------------------+--------------------+---------------------+-------+\n",
       "only showing top 10 rows\n",
       "\n",
       "</div>"
      ]
     },
     "metadata": {
      "application/vnd.databricks.v1+output": {
       "addedWidgets": {},
       "arguments": {},
       "data": "<div class=\"ansiout\">+--------------------+-------+--------------------+--------------------+---------+---------+--------------------+---------+--------------------+--------------------+---------------------+-------+\n|            Crime_ID|  Month|         Reported_by|        Falls_within|Longitude| Latitude|            Location|LSOA_code|           LSOA_name|          Crime_type|Last_outcome_category|Context|\n+--------------------+-------+--------------------+--------------------+---------+---------+--------------------+---------+--------------------+--------------------+---------------------+-------+\n|4b89599348c51bcc8...|2018-01|Avon and Somerset...|Avon and Somerset...| 0.489518|51.560445|On or near Whytew...|E01021311|       Basildon 022C|         Other crime| Investigation com...|       |\n|                    |2018-01|Avon and Somerset...|Avon and Somerset...|-2.516919|51.423683|    On or near A4175|E01014399|Bath and North Ea...|Anti-social behav...|                     |       |\n|74128ab275c1aa107...|2018-01|Avon and Somerset...|Avon and Somerset...|-2.515072|51.419357|On or near Stockw...|E01014399|Bath and North Ea...|            Burglary| Status update una...|       |\n|0417b3f4363b480f4...|2018-01|Avon and Somerset...|Avon and Somerset...|-2.515816|51.408717|On or near Caroli...|E01014399|Bath and North Ea...|Criminal damage a...| Further investiga...|       |\n|0a404693ae14efee1...|2018-01|Avon and Somerset...|Avon and Somerset...|-2.494870|51.422276|On or near Confer...|E01014399|Bath and North Ea...|Criminal damage a...| Status update una...|       |\n|2f02418280c300288...|2018-01|Avon and Somerset...|Avon and Somerset...|-2.495055|51.422132|On or near Cross ...|E01014399|Bath and North Ea...|Criminal damage a...| Status update una...|       |\n|32260926ecfec610a...|2018-01|Avon and Somerset...|Avon and Somerset...|-2.512773|51.411751|On or near Westfi...|E01014399|Bath and North Ea...|         Other theft| Status update una...|       |\n|d1570aef4546eb5ae...|2018-01|Avon and Somerset...|Avon and Somerset...|-2.511761|51.409966|On or near Caerna...|E01014399|Bath and North Ea...|Possession of wea...| Status update una...|       |\n|ba51a848551dbff1d...|2018-01|Avon and Somerset...|Avon and Somerset...|-2.515072|51.419357|On or near Stockw...|E01014399|Bath and North Ea...|        Public order| Status update una...|       |\n|e36cb6ffeb39683b4...|2018-01|Avon and Somerset...|Avon and Somerset...|-2.513343|51.408772|On or near Lincol...|E01014399|Bath and North Ea...|       Vehicle crime| Status update una...|       |\n+--------------------+-------+--------------------+--------------------+---------+---------+--------------------+---------+--------------------+--------------------+---------------------+-------+\nonly showing top 10 rows\n\n</div>",
       "datasetInfos": [],
       "removedWidgets": [],
       "type": "html"
      }
     },
     "output_type": "display_data"
    }
   ],
   "source": [
    "# Taking a peek at the dataframe.\n",
    "df.show(10)"
   ]
  },
  {
   "cell_type": "code",
   "execution_count": 0,
   "metadata": {
    "application/vnd.databricks.v1+cell": {
     "inputWidgets": {},
     "nuid": "4645149b-e0fa-413b-9090-8b02b860fc3e",
     "showTitle": false,
     "title": ""
    }
   },
   "outputs": [
    {
     "data": {
      "text/html": [
       "<style scoped>\n",
       "  .ansiout {\n",
       "    display: block;\n",
       "    unicode-bidi: embed;\n",
       "    white-space: pre-wrap;\n",
       "    word-wrap: break-word;\n",
       "    word-break: break-all;\n",
       "    font-family: \"Source Code Pro\", \"Menlo\", monospace;;\n",
       "    font-size: 13px;\n",
       "    color: #555;\n",
       "    margin-left: 4px;\n",
       "    line-height: 19px;\n",
       "  }\n",
       "</style>\n",
       "<div class=\"ansiout\"></div>"
      ]
     },
     "metadata": {
      "application/vnd.databricks.v1+output": {
       "addedWidgets": {},
       "arguments": {},
       "data": "<div class=\"ansiout\"></div>",
       "datasetInfos": [
        {
         "name": "df_new",
         "schema": {
          "fields": [
           {
            "metadata": {},
            "name": "Month",
            "nullable": true,
            "type": "string"
           },
           {
            "metadata": {},
            "name": "Reported_by",
            "nullable": true,
            "type": "string"
           },
           {
            "metadata": {},
            "name": "Falls_within",
            "nullable": true,
            "type": "string"
           },
           {
            "metadata": {},
            "name": "Longitude",
            "nullable": true,
            "type": "string"
           },
           {
            "metadata": {},
            "name": "Latitude",
            "nullable": true,
            "type": "string"
           },
           {
            "metadata": {},
            "name": "Location",
            "nullable": true,
            "type": "string"
           },
           {
            "metadata": {},
            "name": "LSOA_code",
            "nullable": true,
            "type": "string"
           },
           {
            "metadata": {},
            "name": "LSOA_name",
            "nullable": true,
            "type": "string"
           },
           {
            "metadata": {},
            "name": "Crime_type",
            "nullable": true,
            "type": "string"
           }
          ],
          "type": "struct"
         },
         "tableIdentifier": null,
         "typeStr": "pyspark.sql.dataframe.DataFrame"
        }
       ],
       "removedWidgets": [],
       "type": "html"
      }
     },
     "output_type": "display_data"
    }
   ],
   "source": [
    "# Droping columns which have no value as a part of data cleaning.\n",
    "df_new=df.drop('Crime_ID','Last_outcome_category','Context')"
   ]
  },
  {
   "cell_type": "code",
   "execution_count": 0,
   "metadata": {
    "application/vnd.databricks.v1+cell": {
     "inputWidgets": {},
     "nuid": "6b2affee-9523-4264-825f-0f523cf95b5c",
     "showTitle": false,
     "title": ""
    }
   },
   "outputs": [
    {
     "data": {
      "text/html": [
       "<style scoped>\n",
       "  .ansiout {\n",
       "    display: block;\n",
       "    unicode-bidi: embed;\n",
       "    white-space: pre-wrap;\n",
       "    word-wrap: break-word;\n",
       "    word-break: break-all;\n",
       "    font-family: \"Source Code Pro\", \"Menlo\", monospace;;\n",
       "    font-size: 13px;\n",
       "    color: #555;\n",
       "    margin-left: 4px;\n",
       "    line-height: 19px;\n",
       "  }\n",
       "</style>\n",
       "<div class=\"ansiout\">root\n",
       "-- Month: string (nullable = true)\n",
       "-- Reported_by: string (nullable = true)\n",
       "-- Falls_within: string (nullable = true)\n",
       "-- Longitude: string (nullable = true)\n",
       "-- Latitude: string (nullable = true)\n",
       "-- Location: string (nullable = true)\n",
       "-- LSOA_code: string (nullable = true)\n",
       "-- LSOA_name: string (nullable = true)\n",
       "-- Crime_type: string (nullable = true)\n",
       "\n",
       "</div>"
      ]
     },
     "metadata": {
      "application/vnd.databricks.v1+output": {
       "addedWidgets": {},
       "arguments": {},
       "data": "<div class=\"ansiout\">root\n |-- Month: string (nullable = true)\n |-- Reported_by: string (nullable = true)\n |-- Falls_within: string (nullable = true)\n |-- Longitude: string (nullable = true)\n |-- Latitude: string (nullable = true)\n |-- Location: string (nullable = true)\n |-- LSOA_code: string (nullable = true)\n |-- LSOA_name: string (nullable = true)\n |-- Crime_type: string (nullable = true)\n\n</div>",
       "datasetInfos": [],
       "removedWidgets": [],
       "type": "html"
      }
     },
     "output_type": "display_data"
    }
   ],
   "source": [
    "# Observing the schema of dataframe.\n",
    "df_new.printSchema()"
   ]
  },
  {
   "cell_type": "markdown",
   "metadata": {
    "application/vnd.databricks.v1+cell": {
     "inputWidgets": {},
     "nuid": "09f9bbd5-11b5-4da0-8906-1463d2171051",
     "showTitle": false,
     "title": ""
    }
   },
   "source": [
    "##### Note: Here, all variables are strings. But we know that 'Month' should take date type and Longitude & Longitudes should take double type"
   ]
  },
  {
   "cell_type": "code",
   "execution_count": 0,
   "metadata": {
    "application/vnd.databricks.v1+cell": {
     "inputWidgets": {},
     "nuid": "266be4d3-a360-45f3-ac60-8f940336a66f",
     "showTitle": false,
     "title": ""
    }
   },
   "outputs": [
    {
     "data": {
      "text/html": [
       "<style scoped>\n",
       "  .ansiout {\n",
       "    display: block;\n",
       "    unicode-bidi: embed;\n",
       "    white-space: pre-wrap;\n",
       "    word-wrap: break-word;\n",
       "    word-break: break-all;\n",
       "    font-family: \"Source Code Pro\", \"Menlo\", monospace;;\n",
       "    font-size: 13px;\n",
       "    color: #555;\n",
       "    margin-left: 4px;\n",
       "    line-height: 19px;\n",
       "  }\n",
       "</style>\n",
       "<div class=\"ansiout\"></div>"
      ]
     },
     "metadata": {
      "application/vnd.databricks.v1+output": {
       "addedWidgets": {},
       "arguments": {},
       "data": "<div class=\"ansiout\"></div>",
       "datasetInfos": [
        {
         "name": "df_new",
         "schema": {
          "fields": [
           {
            "metadata": {},
            "name": "Month",
            "nullable": true,
            "type": "date"
           },
           {
            "metadata": {},
            "name": "Reported_by",
            "nullable": true,
            "type": "string"
           },
           {
            "metadata": {},
            "name": "Falls_within",
            "nullable": true,
            "type": "string"
           },
           {
            "metadata": {},
            "name": "Longitude",
            "nullable": true,
            "type": "double"
           },
           {
            "metadata": {},
            "name": "Latitude",
            "nullable": true,
            "type": "double"
           },
           {
            "metadata": {},
            "name": "Location",
            "nullable": true,
            "type": "string"
           },
           {
            "metadata": {},
            "name": "LSOA_code",
            "nullable": true,
            "type": "string"
           },
           {
            "metadata": {},
            "name": "LSOA_name",
            "nullable": true,
            "type": "string"
           },
           {
            "metadata": {},
            "name": "Crime_type",
            "nullable": true,
            "type": "string"
           }
          ],
          "type": "struct"
         },
         "tableIdentifier": null,
         "typeStr": "pyspark.sql.dataframe.DataFrame"
        }
       ],
       "removedWidgets": [],
       "type": "html"
      }
     },
     "output_type": "display_data"
    }
   ],
   "source": [
    "# Converting these three variables into required types.\n",
    "df_new=df_new.withColumn(\"Month\",df['Month'].cast(\"date\"))\n",
    "df_new=df_new.withColumn(\"Longitude\",df['Longitude'].cast(\"double\"))\n",
    "df_new=df_new.withColumn(\"Latitude\",df['Latitude'].cast(\"double\"))"
   ]
  },
  {
   "cell_type": "code",
   "execution_count": 0,
   "metadata": {
    "application/vnd.databricks.v1+cell": {
     "inputWidgets": {},
     "nuid": "a7746410-eec1-41a8-b8e7-9cb2ac609dd3",
     "showTitle": false,
     "title": ""
    }
   },
   "outputs": [
    {
     "data": {
      "text/html": [
       "<style scoped>\n",
       "  .ansiout {\n",
       "    display: block;\n",
       "    unicode-bidi: embed;\n",
       "    white-space: pre-wrap;\n",
       "    word-wrap: break-word;\n",
       "    word-break: break-all;\n",
       "    font-family: \"Source Code Pro\", \"Menlo\", monospace;;\n",
       "    font-size: 13px;\n",
       "    color: #555;\n",
       "    margin-left: 4px;\n",
       "    line-height: 19px;\n",
       "  }\n",
       "</style>\n",
       "<div class=\"ansiout\">root\n",
       "-- Month: date (nullable = true)\n",
       "-- Reported_by: string (nullable = true)\n",
       "-- Falls_within: string (nullable = true)\n",
       "-- Longitude: double (nullable = true)\n",
       "-- Latitude: double (nullable = true)\n",
       "-- Location: string (nullable = true)\n",
       "-- LSOA_code: string (nullable = true)\n",
       "-- LSOA_name: string (nullable = true)\n",
       "-- Crime_type: string (nullable = true)\n",
       "\n",
       "</div>"
      ]
     },
     "metadata": {
      "application/vnd.databricks.v1+output": {
       "addedWidgets": {},
       "arguments": {},
       "data": "<div class=\"ansiout\">root\n |-- Month: date (nullable = true)\n |-- Reported_by: string (nullable = true)\n |-- Falls_within: string (nullable = true)\n |-- Longitude: double (nullable = true)\n |-- Latitude: double (nullable = true)\n |-- Location: string (nullable = true)\n |-- LSOA_code: string (nullable = true)\n |-- LSOA_name: string (nullable = true)\n |-- Crime_type: string (nullable = true)\n\n</div>",
       "datasetInfos": [],
       "removedWidgets": [],
       "type": "html"
      }
     },
     "output_type": "display_data"
    }
   ],
   "source": [
    "# Checking the schema again.\n",
    "df_new.printSchema()\n",
    "# Awesome, we are now ready with formatted data."
   ]
  },
  {
   "cell_type": "markdown",
   "metadata": {
    "application/vnd.databricks.v1+cell": {
     "inputWidgets": {},
     "nuid": "8461f517-b938-4b13-a0ad-b282f73b0d9b",
     "showTitle": false,
     "title": ""
    }
   },
   "source": [
    "##### Let's see the descriptive statistics"
   ]
  },
  {
   "cell_type": "code",
   "execution_count": 0,
   "metadata": {
    "application/vnd.databricks.v1+cell": {
     "inputWidgets": {},
     "nuid": "8c2fd0eb-a1bb-41f4-b9b2-d4ed4f4965f8",
     "showTitle": false,
     "title": ""
    }
   },
   "outputs": [
    {
     "data": {
      "text/html": [
       "<style scoped>\n",
       "  .ansiout {\n",
       "    display: block;\n",
       "    unicode-bidi: embed;\n",
       "    white-space: pre-wrap;\n",
       "    word-wrap: break-word;\n",
       "    word-break: break-all;\n",
       "    font-family: \"Source Code Pro\", \"Menlo\", monospace;;\n",
       "    font-size: 13px;\n",
       "    color: #555;\n",
       "    margin-left: 4px;\n",
       "    line-height: 19px;\n",
       "  }\n",
       "</style>\n",
       "<div class=\"ansiout\">+-------+--------------------+--------------------+-------------------+------------------+--------------------+---------+---------+--------------------+\n",
       "summary|         Reported_by|        Falls_within|          Longitude|          Latitude|            Location|LSOA_code|LSOA_name|          Crime_type|\n",
       "+-------+--------------------+--------------------+-------------------+------------------+--------------------+---------+---------+--------------------+\n",
       "  count|             3817213|             3817213|            3730793|           3730793|             3817213|  3817213|  3817213|             3817213|\n",
       "   mean|                null|                null|-1.4306233665304802| 52.51485366331499|                null|     null|     null|                null|\n",
       " stddev|                null|                null| 1.4514040048191166|1.1993739701536836|                null|     null|     null|                null|\n",
       "    min|Avon and Somerset...|Avon and Somerset...|          -8.135559|          49.89292|         No Location|         |         |Anti-social behav...|\n",
       "    max|    Wiltshire Police|    Wiltshire Police|           1.759519|         57.642917|On or near Zurich...|W01001958|York 024F|Violence and sexu...|\n",
       "+-------+--------------------+--------------------+-------------------+------------------+--------------------+---------+---------+--------------------+\n",
       "\n",
       "</div>"
      ]
     },
     "metadata": {
      "application/vnd.databricks.v1+output": {
       "addedWidgets": {},
       "arguments": {},
       "data": "<div class=\"ansiout\">+-------+--------------------+--------------------+-------------------+------------------+--------------------+---------+---------+--------------------+\n|summary|         Reported_by|        Falls_within|          Longitude|          Latitude|            Location|LSOA_code|LSOA_name|          Crime_type|\n+-------+--------------------+--------------------+-------------------+------------------+--------------------+---------+---------+--------------------+\n|  count|             3817213|             3817213|            3730793|           3730793|             3817213|  3817213|  3817213|             3817213|\n|   mean|                null|                null|-1.4306233665304802| 52.51485366331499|                null|     null|     null|                null|\n| stddev|                null|                null| 1.4514040048191166|1.1993739701536836|                null|     null|     null|                null|\n|    min|Avon and Somerset...|Avon and Somerset...|          -8.135559|          49.89292|         No Location|         |         |Anti-social behav...|\n|    max|    Wiltshire Police|    Wiltshire Police|           1.759519|         57.642917|On or near Zurich...|W01001958|York 024F|Violence and sexu...|\n+-------+--------------------+--------------------+-------------------+------------------+--------------------+---------+---------+--------------------+\n\n</div>",
       "datasetInfos": [],
       "removedWidgets": [],
       "type": "html"
      }
     },
     "output_type": "display_data"
    }
   ],
   "source": [
    "# Statistical analysis of variables.\n",
    "df_new.describe().show()"
   ]
  },
  {
   "cell_type": "markdown",
   "metadata": {
    "application/vnd.databricks.v1+cell": {
     "inputWidgets": {},
     "nuid": "0ec20f5f-4d7d-4d79-8554-08815ca8dabf",
     "showTitle": false,
     "title": ""
    }
   },
   "source": [
    "##### Claim-1: Violent crimes are increasing in UK."
   ]
  },
  {
   "cell_type": "code",
   "execution_count": 0,
   "metadata": {
    "application/vnd.databricks.v1+cell": {
     "inputWidgets": {},
     "nuid": "dcd8396e-06bd-40c9-be06-bf4860cf0752",
     "showTitle": false,
     "title": ""
    }
   },
   "outputs": [
    {
     "data": {
      "text/html": [
       "<style scoped>\n",
       "  .ansiout {\n",
       "    display: block;\n",
       "    unicode-bidi: embed;\n",
       "    white-space: pre-wrap;\n",
       "    word-wrap: break-word;\n",
       "    word-break: break-all;\n",
       "    font-family: \"Source Code Pro\", \"Menlo\", monospace;;\n",
       "    font-size: 13px;\n",
       "    color: #555;\n",
       "    margin-left: 4px;\n",
       "    line-height: 19px;\n",
       "  }\n",
       "</style>\n",
       "<div class=\"ansiout\">+--------------------+-------+\n",
       "          Crime_type|  count|\n",
       "+--------------------+-------+\n",
       "       Bicycle theft|  51163|\n",
       "        Public order| 252815|\n",
       "               Drugs|  82235|\n",
       "         Other crime|  59931|\n",
       "             Robbery|  46068|\n",
       "Criminal damage a...| 338520|\n",
       "Theft from the pe...|  56199|\n",
       "         Shoplifting| 223030|\n",
       "            Burglary| 241708|\n",
       "         Other theft| 316736|\n",
       "Possession of wea...|  26646|\n",
       "Violence and sexu...|1015269|\n",
       "       Vehicle crime| 261493|\n",
       "Anti-social behav...| 845400|\n",
       "+--------------------+-------+\n",
       "\n",
       "</div>"
      ]
     },
     "metadata": {
      "application/vnd.databricks.v1+output": {
       "addedWidgets": {},
       "arguments": {},
       "data": "<div class=\"ansiout\">+--------------------+-------+\n|          Crime_type|  count|\n+--------------------+-------+\n|       Bicycle theft|  51163|\n|        Public order| 252815|\n|               Drugs|  82235|\n|         Other crime|  59931|\n|             Robbery|  46068|\n|Criminal damage a...| 338520|\n|Theft from the pe...|  56199|\n|         Shoplifting| 223030|\n|            Burglary| 241708|\n|         Other theft| 316736|\n|Possession of wea...|  26646|\n|Violence and sexu...|1015269|\n|       Vehicle crime| 261493|\n|Anti-social behav...| 845400|\n+--------------------+-------+\n\n</div>",
       "datasetInfos": [],
       "removedWidgets": [],
       "type": "html"
      }
     },
     "output_type": "display_data"
    }
   ],
   "source": [
    "# Let's see the number of crime types in UK.\n",
    "df_new.groupby('Crime_type').count().show()"
   ]
  },
  {
   "cell_type": "code",
   "execution_count": 0,
   "metadata": {
    "application/vnd.databricks.v1+cell": {
     "inputWidgets": {},
     "nuid": "d0ddfa8e-f3e9-41e7-a626-3b283114346e",
     "showTitle": false,
     "title": ""
    }
   },
   "outputs": [
    {
     "data": {
      "text/html": [
       "<style scoped>\n",
       "  .ansiout {\n",
       "    display: block;\n",
       "    unicode-bidi: embed;\n",
       "    white-space: pre-wrap;\n",
       "    word-wrap: break-word;\n",
       "    word-break: break-all;\n",
       "    font-family: \"Source Code Pro\", \"Menlo\", monospace;;\n",
       "    font-size: 13px;\n",
       "    color: #555;\n",
       "    margin-left: 4px;\n",
       "    line-height: 19px;\n",
       "  }\n",
       "</style>\n",
       "<div class=\"ansiout\"></div>"
      ]
     },
     "metadata": {
      "application/vnd.databricks.v1+output": {
       "addedWidgets": {},
       "arguments": {},
       "data": "<div class=\"ansiout\"></div>",
       "datasetInfos": [],
       "removedWidgets": [],
       "type": "html"
      }
     },
     "output_type": "display_data"
    }
   ],
   "source": [
    "# Creating a temporary table for SQL queries. Table name is Crime_UK.\n",
    "temp_table_name = \"Crime_UK\"\n",
    "df_new.createOrReplaceTempView(temp_table_name)"
   ]
  },
  {
   "cell_type": "markdown",
   "metadata": {
    "application/vnd.databricks.v1+cell": {
     "inputWidgets": {},
     "nuid": "1cd20c7a-978d-4e7c-b732-0170f70d171a",
     "showTitle": false,
     "title": ""
    }
   },
   "source": [
    "##### Note: The above table is temporary and availabe only during this run time"
   ]
  },
  {
   "cell_type": "code",
   "execution_count": 0,
   "metadata": {
    "application/vnd.databricks.v1+cell": {
     "inputWidgets": {},
     "nuid": "3fb49899-9b92-43ce-8fbb-4fe3ff9e80c7",
     "showTitle": false,
     "title": ""
    }
   },
   "outputs": [
    {
     "data": {
      "text/html": [
       "<style scoped>\n",
       "  .table-result-container {\n",
       "    max-height: 300px;\n",
       "    overflow: auto;\n",
       "  }\n",
       "  table, th, td {\n",
       "    border: 1px solid black;\n",
       "    border-collapse: collapse;\n",
       "  }\n",
       "  th, td {\n",
       "    padding: 5px;\n",
       "  }\n",
       "  th {\n",
       "    text-align: left;\n",
       "  }\n",
       "</style><div class='table-result-container'><table class='table-result'><thead style='background-color: white'><tr><th>Month</th><th>Reported_by</th><th>Falls_within</th><th>Longitude</th><th>Latitude</th><th>Location</th><th>LSOA_code</th><th>LSOA_name</th><th>Crime_type</th></tr></thead><tbody><tr><td>2018-01-01</td><td>Avon and Somerset Constabulary</td><td>Avon and Somerset Constabulary</td><td>0.489518</td><td>51.560445</td><td>On or near Whytewaters</td><td>E01021311</td><td>Basildon 022C</td><td>Other crime</td></tr><tr><td>2018-01-01</td><td>Avon and Somerset Constabulary</td><td>Avon and Somerset Constabulary</td><td>-2.516919</td><td>51.423683</td><td>On or near A4175</td><td>E01014399</td><td>Bath and North East Somerset 001A</td><td>Anti-social behaviour</td></tr><tr><td>2018-01-01</td><td>Avon and Somerset Constabulary</td><td>Avon and Somerset Constabulary</td><td>-2.515072</td><td>51.419357</td><td>On or near Stockwood Hill</td><td>E01014399</td><td>Bath and North East Somerset 001A</td><td>Burglary</td></tr></tbody></table></div>"
      ]
     },
     "metadata": {
      "application/vnd.databricks.v1+output": {
       "addedWidgets": {},
       "aggData": [],
       "aggError": "",
       "aggOverflow": false,
       "aggSchema": [],
       "aggSeriesLimitReached": false,
       "aggType": "",
       "arguments": {},
       "columnCustomDisplayInfos": {},
       "data": [
        [
         "2018-01-01",
         "Avon and Somerset Constabulary",
         "Avon and Somerset Constabulary",
         0.489518,
         51.560445,
         "On or near Whytewaters",
         "E01021311",
         "Basildon 022C",
         "Other crime"
        ],
        [
         "2018-01-01",
         "Avon and Somerset Constabulary",
         "Avon and Somerset Constabulary",
         -2.516919,
         51.423683,
         "On or near A4175",
         "E01014399",
         "Bath and North East Somerset 001A",
         "Anti-social behaviour"
        ],
        [
         "2018-01-01",
         "Avon and Somerset Constabulary",
         "Avon and Somerset Constabulary",
         -2.515072,
         51.419357,
         "On or near Stockwood Hill",
         "E01014399",
         "Bath and North East Somerset 001A",
         "Burglary"
        ]
       ],
       "datasetInfos": [],
       "dbfsResultPath": null,
       "isJsonSchema": true,
       "overflow": false,
       "plotOptions": {
        "customPlotOptions": {},
        "displayType": "table",
        "pivotAggregation": null,
        "pivotColumns": null,
        "xColumns": null,
        "yColumns": null
       },
       "removedWidgets": [],
       "schema": [
        {
         "metadata": "{}",
         "name": "Month",
         "type": "\"date\""
        },
        {
         "metadata": "{}",
         "name": "Reported_by",
         "type": "\"string\""
        },
        {
         "metadata": "{}",
         "name": "Falls_within",
         "type": "\"string\""
        },
        {
         "metadata": "{}",
         "name": "Longitude",
         "type": "\"double\""
        },
        {
         "metadata": "{}",
         "name": "Latitude",
         "type": "\"double\""
        },
        {
         "metadata": "{}",
         "name": "Location",
         "type": "\"string\""
        },
        {
         "metadata": "{}",
         "name": "LSOA_code",
         "type": "\"string\""
        },
        {
         "metadata": "{}",
         "name": "LSOA_name",
         "type": "\"string\""
        },
        {
         "metadata": "{}",
         "name": "Crime_type",
         "type": "\"string\""
        }
       ],
       "type": "table"
      }
     },
     "output_type": "display_data"
    }
   ],
   "source": [
    "# Just see how the table is\n",
    "%sql\n",
    "select * from Crime_UK limit 3;"
   ]
  },
  {
   "cell_type": "code",
   "execution_count": 0,
   "metadata": {
    "application/vnd.databricks.v1+cell": {
     "inputWidgets": {},
     "nuid": "305eb6c4-a81e-4353-9a23-505d64ccc291",
     "showTitle": false,
     "title": ""
    }
   },
   "outputs": [
    {
     "data": {
      "text/html": [
       "<style scoped>\n",
       "  .ansiout {\n",
       "    display: block;\n",
       "    unicode-bidi: embed;\n",
       "    white-space: pre-wrap;\n",
       "    word-wrap: break-word;\n",
       "    word-break: break-all;\n",
       "    font-family: \"Source Code Pro\", \"Menlo\", monospace;;\n",
       "    font-size: 13px;\n",
       "    color: #555;\n",
       "    margin-left: 4px;\n",
       "    line-height: 19px;\n",
       "  }\n",
       "</style>\n",
       "<div class=\"ansiout\"></div>"
      ]
     },
     "metadata": {
      "application/vnd.databricks.v1+output": {
       "addedWidgets": {},
       "arguments": {},
       "data": "<div class=\"ansiout\"></div>",
       "datasetInfos": [],
       "removedWidgets": [],
       "type": "html"
      }
     },
     "output_type": "display_data"
    }
   ],
   "source": [
    "# This is an important funtion used throughtout the code for count aggregation.\n",
    "import pyspark.sql.functions as F\n",
    "\n",
    "cnt_cond = lambda cond: F.sum(F.when(cond, 1).otherwise(0))"
   ]
  },
  {
   "cell_type": "code",
   "execution_count": 0,
   "metadata": {
    "application/vnd.databricks.v1+cell": {
     "inputWidgets": {},
     "nuid": "f052fdf1-55ad-4cfd-80ce-e8699362c9f9",
     "showTitle": false,
     "title": ""
    }
   },
   "outputs": [
    {
     "data": {
      "text/html": [
       "<style scoped>\n",
       "  .table-result-container {\n",
       "    max-height: 300px;\n",
       "    overflow: auto;\n",
       "  }\n",
       "  table, th, td {\n",
       "    border: 1px solid black;\n",
       "    border-collapse: collapse;\n",
       "  }\n",
       "  th, td {\n",
       "    padding: 5px;\n",
       "  }\n",
       "  th {\n",
       "    text-align: left;\n",
       "  }\n",
       "</style><div class='table-result-container'><table class='table-result'><thead style='background-color: white'><tr><th>Month</th><th>Reported_by</th><th>Falls_within</th><th>Longitude</th><th>Latitude</th><th>Location</th><th>LSOA_code</th><th>LSOA_name</th><th>Crime_type</th></tr></thead><tbody><tr><td>2018-01-01</td><td>Avon and Somerset Constabulary</td><td>Avon and Somerset Constabulary</td><td>-2.495055</td><td>51.422132</td><td>On or near Cross Street</td><td>E01014399</td><td>Bath and North East Somerset 001A</td><td>Violence and sexual offences</td></tr><tr><td>2018-01-01</td><td>Avon and Somerset Constabulary</td><td>Avon and Somerset Constabulary</td><td>-2.509126</td><td>51.416137</td><td>On or near St Francis Road</td><td>E01014399</td><td>Bath and North East Somerset 001A</td><td>Violence and sexual offences</td></tr><tr><td>2018-01-01</td><td>Avon and Somerset Constabulary</td><td>Avon and Somerset Constabulary</td><td>-2.511761</td><td>51.409966</td><td>On or near Caernarvon Close</td><td>E01014399</td><td>Bath and North East Somerset 001A</td><td>Violence and sexual offences</td></tr></tbody></table></div>"
      ]
     },
     "metadata": {
      "application/vnd.databricks.v1+output": {
       "addedWidgets": {},
       "aggData": [],
       "aggError": "",
       "aggOverflow": false,
       "aggSchema": [],
       "aggSeriesLimitReached": false,
       "aggType": "",
       "arguments": {},
       "columnCustomDisplayInfos": {},
       "data": [
        [
         "2018-01-01",
         "Avon and Somerset Constabulary",
         "Avon and Somerset Constabulary",
         -2.495055,
         51.422132,
         "On or near Cross Street",
         "E01014399",
         "Bath and North East Somerset 001A",
         "Violence and sexual offences"
        ],
        [
         "2018-01-01",
         "Avon and Somerset Constabulary",
         "Avon and Somerset Constabulary",
         -2.509126,
         51.416137,
         "On or near St Francis Road",
         "E01014399",
         "Bath and North East Somerset 001A",
         "Violence and sexual offences"
        ],
        [
         "2018-01-01",
         "Avon and Somerset Constabulary",
         "Avon and Somerset Constabulary",
         -2.511761,
         51.409966,
         "On or near Caernarvon Close",
         "E01014399",
         "Bath and North East Somerset 001A",
         "Violence and sexual offences"
        ]
       ],
       "datasetInfos": [],
       "dbfsResultPath": null,
       "isJsonSchema": true,
       "overflow": false,
       "plotOptions": {
        "customPlotOptions": {},
        "displayType": "table",
        "pivotAggregation": null,
        "pivotColumns": null,
        "xColumns": null,
        "yColumns": null
       },
       "removedWidgets": [],
       "schema": [
        {
         "metadata": "{}",
         "name": "Month",
         "type": "\"date\""
        },
        {
         "metadata": "{}",
         "name": "Reported_by",
         "type": "\"string\""
        },
        {
         "metadata": "{}",
         "name": "Falls_within",
         "type": "\"string\""
        },
        {
         "metadata": "{}",
         "name": "Longitude",
         "type": "\"double\""
        },
        {
         "metadata": "{}",
         "name": "Latitude",
         "type": "\"double\""
        },
        {
         "metadata": "{}",
         "name": "Location",
         "type": "\"string\""
        },
        {
         "metadata": "{}",
         "name": "LSOA_code",
         "type": "\"string\""
        },
        {
         "metadata": "{}",
         "name": "LSOA_name",
         "type": "\"string\""
        },
        {
         "metadata": "{}",
         "name": "Crime_type",
         "type": "\"string\""
        }
       ],
       "type": "table"
      }
     },
     "output_type": "display_data"
    }
   ],
   "source": [
    "# Analyzing both types of violent crimes: 'Violent crime' and 'Violence and sexual offences'.\n",
    "%sql \n",
    "select * from Crime_UK where Crime_type=='Violent crime'or Crime_type=='Violence and sexual offences' order by Month limit 3;"
   ]
  },
  {
   "cell_type": "markdown",
   "metadata": {
    "application/vnd.databricks.v1+cell": {
     "inputWidgets": {},
     "nuid": "316b5722-e3c2-424f-8718-8c106b3c92da",
     "showTitle": false,
     "title": ""
    }
   },
   "source": [
    "##### Note: Here I am considering 'Violent Crime' and 'Violence and sexual offences' as violent crimes for the problem statement. I am not considering robbery"
   ]
  },
  {
   "cell_type": "code",
   "execution_count": 0,
   "metadata": {
    "application/vnd.databricks.v1+cell": {
     "inputWidgets": {},
     "nuid": "5490b7ce-0033-4916-a60d-daac90d58973",
     "showTitle": false,
     "title": ""
    }
   },
   "outputs": [
    {
     "data": {
      "text/html": [
       "<style scoped>\n",
       "  .ansiout {\n",
       "    display: block;\n",
       "    unicode-bidi: embed;\n",
       "    white-space: pre-wrap;\n",
       "    word-wrap: break-word;\n",
       "    word-break: break-all;\n",
       "    font-family: \"Source Code Pro\", \"Menlo\", monospace;;\n",
       "    font-size: 13px;\n",
       "    color: #555;\n",
       "    margin-left: 4px;\n",
       "    line-height: 19px;\n",
       "  }\n",
       "</style>\n",
       "<div class=\"ansiout\">+----------+------+\n",
       "     Month| count|\n",
       "+----------+------+\n",
       "2018-02-01|120093|\n",
       "2018-05-01|158058|\n",
       "2018-07-01|166576|\n",
       "+----------+------+\n",
       "only showing top 3 rows\n",
       "\n",
       "</div>"
      ]
     },
     "metadata": {
      "application/vnd.databricks.v1+output": {
       "addedWidgets": {},
       "arguments": {},
       "data": "<div class=\"ansiout\">+----------+------+\n|     Month| count|\n+----------+------+\n|2018-02-01|120093|\n|2018-05-01|158058|\n|2018-07-01|166576|\n+----------+------+\nonly showing top 3 rows\n\n</div>",
       "datasetInfos": [
        {
         "name": "df_time_series",
         "schema": {
          "fields": [
           {
            "metadata": {},
            "name": "Month",
            "nullable": true,
            "type": "date"
           },
           {
            "metadata": {},
            "name": "count",
            "nullable": true,
            "type": "long"
           }
          ],
          "type": "struct"
         },
         "tableIdentifier": null,
         "typeStr": "pyspark.sql.dataframe.DataFrame"
        }
       ],
       "removedWidgets": [],
       "type": "html"
      }
     },
     "output_type": "display_data"
    }
   ],
   "source": [
    "# Dataframe for violent crime.\n",
    "df_time_series=df_new.groupBy('Month').agg(cnt_cond(F.col('Crime_type').isin(['Violent crime', 'Violence and sexual offences'])).alias('count'))\n",
    "df_time_series.show(3)"
   ]
  },
  {
   "cell_type": "code",
   "execution_count": 0,
   "metadata": {
    "application/vnd.databricks.v1+cell": {
     "inputWidgets": {},
     "nuid": "f3273c51-606e-4a0f-bd9e-38708da9e5ec",
     "showTitle": false,
     "title": ""
    }
   },
   "outputs": [
    {
     "data": {
      "text/html": [
       "<style scoped>\n",
       "  .ansiout {\n",
       "    display: block;\n",
       "    unicode-bidi: embed;\n",
       "    white-space: pre-wrap;\n",
       "    word-wrap: break-word;\n",
       "    word-break: break-all;\n",
       "    font-family: \"Source Code Pro\", \"Menlo\", monospace;;\n",
       "    font-size: 13px;\n",
       "    color: #555;\n",
       "    margin-left: 4px;\n",
       "    line-height: 19px;\n",
       "  }\n",
       "</style>\n",
       "<div class=\"ansiout\"></div>"
      ]
     },
     "metadata": {
      "application/vnd.databricks.v1+output": {
       "addedWidgets": {},
       "arguments": {},
       "data": "<div class=\"ansiout\"></div>",
       "datasetInfos": [],
       "removedWidgets": [],
       "type": "html"
      }
     },
     "output_type": "display_data"
    }
   ],
   "source": [
    "# Converting spark dataframe into pandas dataframe to leverage matplotlib.\n",
    "pdf = (\n",
    "    df_time_series.select(\n",
    "        \"Month\",\n",
    "        \"count\")\n",
    "    .orderBy(\"Month\")\n",
    "    .toPandas()\n",
    ")"
   ]
  },
  {
   "cell_type": "code",
   "execution_count": 0,
   "metadata": {
    "application/vnd.databricks.v1+cell": {
     "inputWidgets": {},
     "nuid": "afe6c4da-7920-4486-a6ea-ce4796572785",
     "showTitle": false,
     "title": ""
    }
   },
   "outputs": [
    {
     "data": {
      "text/html": [
       "<style scoped>\n",
       "  .ansiout {\n",
       "    display: block;\n",
       "    unicode-bidi: embed;\n",
       "    white-space: pre-wrap;\n",
       "    word-wrap: break-word;\n",
       "    word-break: break-all;\n",
       "    font-family: \"Source Code Pro\", \"Menlo\", monospace;;\n",
       "    font-size: 13px;\n",
       "    color: #555;\n",
       "    margin-left: 4px;\n",
       "    line-height: 19px;\n",
       "  }\n",
       "</style>\n",
       "<div class=\"ansiout\">Out[36]: 0    125732.5\n",
       "1    130528.5\n",
       "2    141539.5\n",
       "Name: rolling average, dtype: float64</div>"
      ]
     },
     "metadata": {
      "application/vnd.databricks.v1+output": {
       "addedWidgets": {},
       "arguments": {},
       "data": "<div class=\"ansiout\">Out[36]: 0    125732.5\n1    130528.5\n2    141539.5\nName: rolling average, dtype: float64</div>",
       "datasetInfos": [],
       "removedWidgets": [],
       "type": "html"
      }
     },
     "output_type": "display_data"
    }
   ],
   "source": [
    "# Calculating rolling average by keeping window as 2.\n",
    "pdf['rolling average'] = pdf['count'].rolling(2).mean().shift(-1)\n",
    "pdf['rolling average'].head(3)"
   ]
  },
  {
   "cell_type": "code",
   "execution_count": 0,
   "metadata": {
    "application/vnd.databricks.v1+cell": {
     "inputWidgets": {},
     "nuid": "39bf7a77-9e26-4c8a-a1f8-272fb5f00bb3",
     "showTitle": false,
     "title": ""
    }
   },
   "outputs": [
    {
     "data": {
      "image/png": "[encoded data removed]"
     },
     "metadata": {
      "application/vnd.databricks.v1+output": {
       "addedWidgets": {},
       "arguments": {},
       "data": "/plots/668cfa2d-1d31-4dc0-ab01-32214f329c13.png",
       "datasetInfos": [],
       "removedWidgets": [],
       "type": "image"
      }
     },
     "output_type": "display_data"
    }
   ],
   "source": [
    "# ploting a time series plot\n",
    "plt.figure(figsize=(9,6))\n",
    "sns.lineplot(x=\"Month\",y=\"count\",\n",
    "             data=pdf,\n",
    "             ci=None)\n",
    "sns.lineplot(x=\"Month\",y=\"rolling average\",\n",
    "             data=pdf,\n",
    "             ci=None)\n",
    "\n",
    "plt.xlabel(\"Date\", size=14)\n",
    "plt.ylabel(\"number of violent crimes\", size=14)"
   ]
  },
  {
   "cell_type": "markdown",
   "metadata": {
    "application/vnd.databricks.v1+cell": {
     "inputWidgets": {},
     "nuid": "2eb0de22-b45b-414a-b5d7-e39ae43a0faa",
     "showTitle": false,
     "title": ""
    }
   },
   "source": [
    "##### Validation of claim-1: Violent crime rate took a dip in February 2018. However, it started to increase afterwards except a little decrease in April and June. It can be clearly proved that violent crimes are increasing in UK. February decrease is possibly due to reduction in the temperature. Increase in crime rate with increasing temperature is a proven phenomenon in cold countries across the globe."
   ]
  },
  {
   "cell_type": "markdown",
   "metadata": {
    "application/vnd.databricks.v1+cell": {
     "inputWidgets": {},
     "nuid": "3eb8f40b-2734-443a-8c41-94843d0dbc4e",
     "showTitle": false,
     "title": ""
    }
   },
   "source": [
    "<br/><br/>"
   ]
  },
  {
   "cell_type": "markdown",
   "metadata": {
    "application/vnd.databricks.v1+cell": {
     "inputWidgets": {},
     "nuid": "5aa9b37d-7015-4c6c-8599-9412bf3c5a9b",
     "showTitle": false,
     "title": ""
    }
   },
   "source": [
    "##### Claim-2: There are more firearm incidents per head in Birmingham than anywhere else in UK"
   ]
  },
  {
   "cell_type": "code",
   "execution_count": 0,
   "metadata": {
    "application/vnd.databricks.v1+cell": {
     "inputWidgets": {},
     "nuid": "dc891aea-52aa-458a-8306-6f4510c2a05d",
     "showTitle": false,
     "title": ""
    }
   },
   "outputs": [
    {
     "data": {
      "text/html": [
       "<style scoped>\n",
       "  .ansiout {\n",
       "    display: block;\n",
       "    unicode-bidi: embed;\n",
       "    white-space: pre-wrap;\n",
       "    word-wrap: break-word;\n",
       "    word-break: break-all;\n",
       "    font-family: \"Source Code Pro\", \"Menlo\", monospace;;\n",
       "    font-size: 13px;\n",
       "    color: #555;\n",
       "    margin-left: 4px;\n",
       "    line-height: 19px;\n",
       "  }\n",
       "</style>\n",
       "<div class=\"ansiout\">+----+---------------+--------------+-----------+----------------------------------------------+--------------------------------+----------------------------------+-----------------------------------------------+------------------------------------------------------------+----------------------------------------------------------------------------------------------------------+------------------------------------------+------------------------------------------------------------------+\n",
       "date|      geography|geography code|Rural Urban|Variable: All usual residents; measures: Value|Variable: Males; measures: Value|Variable: Females; measures: Value|Variable: Lives in a household; measures: Value|Variable: Lives in a communal establishment; measures: Value|Variable: Schoolchild or full-time student aged 4 and over at their non term-time address; measures: Value|Variable: Area (Hectares); measures: Value|Variable: Density (number of persons per hectare); measures: Value|\n",
       "+----+---------------+--------------+-----------+----------------------------------------------+--------------------------------+----------------------------------+-----------------------------------------------+------------------------------------------------------------+----------------------------------------------------------------------------------------------------------+------------------------------------------+------------------------------------------------------------------+\n",
       "2011|Darlington 001B|     E01012334|      Total|                                          2466|                            1220|                              1246|                                           2466|                                                           0|                                                                                                        42|                                   6033.58|                                                               0.4|\n",
       "2011|Darlington 001C|     E01012335|      Total|                                          1383|                             682|                               701|                                           1383|                                                           0|                                                                                                        21|                                    114.01|                                                              12.1|\n",
       "2011|Darlington 001D|     E01012366|      Total|                                          2008|                             972|                              1036|                                           2008|                                                           0|                                                                                                        30|                                   6718.16|                                                               0.3|\n",
       "+----+---------------+--------------+-----------+----------------------------------------------+--------------------------------+----------------------------------+-----------------------------------------------+------------------------------------------------------------+----------------------------------------------------------------------------------------------------------+------------------------------------------+------------------------------------------------------------------+\n",
       "only showing top 3 rows\n",
       "\n",
       "</div>"
      ]
     },
     "metadata": {
      "application/vnd.databricks.v1+output": {
       "addedWidgets": {},
       "arguments": {},
       "data": "<div class=\"ansiout\">+----+---------------+--------------+-----------+----------------------------------------------+--------------------------------+----------------------------------+-----------------------------------------------+------------------------------------------------------------+----------------------------------------------------------------------------------------------------------+------------------------------------------+------------------------------------------------------------------+\n|date|      geography|geography code|Rural Urban|Variable: All usual residents; measures: Value|Variable: Males; measures: Value|Variable: Females; measures: Value|Variable: Lives in a household; measures: Value|Variable: Lives in a communal establishment; measures: Value|Variable: Schoolchild or full-time student aged 4 and over at their non term-time address; measures: Value|Variable: Area (Hectares); measures: Value|Variable: Density (number of persons per hectare); measures: Value|\n+----+---------------+--------------+-----------+----------------------------------------------+--------------------------------+----------------------------------+-----------------------------------------------+------------------------------------------------------------+----------------------------------------------------------------------------------------------------------+------------------------------------------+------------------------------------------------------------------+\n|2011|Darlington 001B|     E01012334|      Total|                                          2466|                            1220|                              1246|                                           2466|                                                           0|                                                                                                        42|                                   6033.58|                                                               0.4|\n|2011|Darlington 001C|     E01012335|      Total|                                          1383|                             682|                               701|                                           1383|                                                           0|                                                                                                        21|                                    114.01|                                                              12.1|\n|2011|Darlington 001D|     E01012366|      Total|                                          2008|                             972|                              1036|                                           2008|                                                           0|                                                                                                        30|                                   6718.16|                                                               0.3|\n+----+---------------+--------------+-----------+----------------------------------------------+--------------------------------+----------------------------------+-----------------------------------------------+------------------------------------------------------------+----------------------------------------------------------------------------------------------------------+------------------------------------------+------------------------------------------------------------------+\nonly showing top 3 rows\n\n</div>",
       "datasetInfos": [
        {
         "name": "df1",
         "schema": {
          "fields": [
           {
            "metadata": {},
            "name": "date",
            "nullable": true,
            "type": "integer"
           },
           {
            "metadata": {},
            "name": "geography",
            "nullable": true,
            "type": "string"
           },
           {
            "metadata": {},
            "name": "geography code",
            "nullable": true,
            "type": "string"
           },
           {
            "metadata": {},
            "name": "Rural Urban",
            "nullable": true,
            "type": "string"
           },
           {
            "metadata": {},
            "name": "Variable: All usual residents; measures: Value",
            "nullable": true,
            "type": "integer"
           },
           {
            "metadata": {},
            "name": "Variable: Males; measures: Value",
            "nullable": true,
            "type": "integer"
           },
           {
            "metadata": {},
            "name": "Variable: Females; measures: Value",
            "nullable": true,
            "type": "integer"
           },
           {
            "metadata": {},
            "name": "Variable: Lives in a household; measures: Value",
            "nullable": true,
            "type": "integer"
           },
           {
            "metadata": {},
            "name": "Variable: Lives in a communal establishment; measures: Value",
            "nullable": true,
            "type": "integer"
           },
           {
            "metadata": {},
            "name": "Variable: Schoolchild or full-time student aged 4 and over at their non term-time address; measures: Value",
            "nullable": true,
            "type": "integer"
           },
           {
            "metadata": {},
            "name": "Variable: Area (Hectares); measures: Value",
            "nullable": true,
            "type": "double"
           },
           {
            "metadata": {},
            "name": "Variable: Density (number of persons per hectare); measures: Value",
            "nullable": true,
            "type": "double"
           }
          ],
          "type": "struct"
         },
         "tableIdentifier": null,
         "typeStr": "pyspark.sql.dataframe.DataFrame"
        }
       ],
       "removedWidgets": [],
       "type": "html"
      }
     },
     "output_type": "display_data"
    }
   ],
   "source": [
    "# Loading LSOA dataset which will be merged with Crime data later.\n",
    "df1 = spark.read.format(\"csv\")\\\n",
    "  .option(\"inferSchema\", \"true\") \\\n",
    "  .option(\"header\", \"true\") \\\n",
    "  .option(\"sep\", ',')\\\n",
    "  .load(\"dbfs:/FileStore/shared_uploads/X@gmail.com/LSOA_pop_v2.csv\") \n",
    "df1.show(3)\n"
   ]
  },
  {
   "cell_type": "code",
   "execution_count": 0,
   "metadata": {
    "application/vnd.databricks.v1+cell": {
     "inputWidgets": {},
     "nuid": "0f3499d1-7a0c-401b-85a5-9cc1faf23973",
     "showTitle": false,
     "title": ""
    }
   },
   "outputs": [
    {
     "data": {
      "text/html": [
       "<style scoped>\n",
       "  .ansiout {\n",
       "    display: block;\n",
       "    unicode-bidi: embed;\n",
       "    white-space: pre-wrap;\n",
       "    word-wrap: break-word;\n",
       "    word-break: break-all;\n",
       "    font-family: \"Source Code Pro\", \"Menlo\", monospace;;\n",
       "    font-size: 13px;\n",
       "    color: #555;\n",
       "    margin-left: 4px;\n",
       "    line-height: 19px;\n",
       "  }\n",
       "</style>\n",
       "<div class=\"ansiout\">[&#39;date&#39;, &#39;geography&#39;, &#39;geography code&#39;, &#39;Rural Urban&#39;, &#39;Variable: All usual residents; measures: Value&#39;, &#39;Variable: Males; measures: Value&#39;, &#39;Variable: Females; measures: Value&#39;, &#39;Variable: Lives in a household; measures: Value&#39;, &#39;Variable: Lives in a communal establishment; measures: Value&#39;, &#39;Variable: Schoolchild or full-time student aged 4 and over at their non term-time address; measures: Value&#39;, &#39;Variable: Area (Hectares); measures: Value&#39;, &#39;Variable: Density (number of persons per hectare); measures: Value&#39;]\n",
       "</div>"
      ]
     },
     "metadata": {
      "application/vnd.databricks.v1+output": {
       "addedWidgets": {},
       "arguments": {},
       "data": "<div class=\"ansiout\">[&#39;date&#39;, &#39;geography&#39;, &#39;geography code&#39;, &#39;Rural Urban&#39;, &#39;Variable: All usual residents; measures: Value&#39;, &#39;Variable: Males; measures: Value&#39;, &#39;Variable: Females; measures: Value&#39;, &#39;Variable: Lives in a household; measures: Value&#39;, &#39;Variable: Lives in a communal establishment; measures: Value&#39;, &#39;Variable: Schoolchild or full-time student aged 4 and over at their non term-time address; measures: Value&#39;, &#39;Variable: Area (Hectares); measures: Value&#39;, &#39;Variable: Density (number of persons per hectare); measures: Value&#39;]\n</div>",
       "datasetInfos": [],
       "removedWidgets": [],
       "type": "html"
      }
     },
     "output_type": "display_data"
    }
   ],
   "source": [
    "print(df1.columns)"
   ]
  },
  {
   "cell_type": "code",
   "execution_count": 0,
   "metadata": {
    "application/vnd.databricks.v1+cell": {
     "inputWidgets": {},
     "nuid": "632b7f46-a519-434c-a094-88eee6568a0e",
     "showTitle": false,
     "title": ""
    }
   },
   "outputs": [
    {
     "data": {
      "text/html": [
       "<style scoped>\n",
       "  .ansiout {\n",
       "    display: block;\n",
       "    unicode-bidi: embed;\n",
       "    white-space: pre-wrap;\n",
       "    word-wrap: break-word;\n",
       "    word-break: break-all;\n",
       "    font-family: \"Source Code Pro\", \"Menlo\", monospace;;\n",
       "    font-size: 13px;\n",
       "    color: #555;\n",
       "    margin-left: 4px;\n",
       "    line-height: 19px;\n",
       "  }\n",
       "</style>\n",
       "<div class=\"ansiout\">+----+---------------+--------------+-----------+----------------+---------------+-----------------+-----------------------------------------------+------------------------------------------------------------+----------------------------------------------------------------------------------------------------------+------------------------------------------+------------------------------------------------------------------+\n",
       "date|      geography|geography code|Rural Urban|Number_of_People|Number_of_Males|Number_of_Females|Variable: Lives in a household; measures: Value|Variable: Lives in a communal establishment; measures: Value|Variable: Schoolchild or full-time student aged 4 and over at their non term-time address; measures: Value|Variable: Area (Hectares); measures: Value|Variable: Density (number of persons per hectare); measures: Value|\n",
       "+----+---------------+--------------+-----------+----------------+---------------+-----------------+-----------------------------------------------+------------------------------------------------------------+----------------------------------------------------------------------------------------------------------+------------------------------------------+------------------------------------------------------------------+\n",
       "2011|Darlington 001B|     E01012334|      Total|            2466|           1220|             1246|                                           2466|                                                           0|                                                                                                        42|                                   6033.58|                                                               0.4|\n",
       "2011|Darlington 001C|     E01012335|      Total|            1383|            682|              701|                                           1383|                                                           0|                                                                                                        21|                                    114.01|                                                              12.1|\n",
       "2011|Darlington 001D|     E01012366|      Total|            2008|            972|             1036|                                           2008|                                                           0|                                                                                                        30|                                   6718.16|                                                               0.3|\n",
       "+----+---------------+--------------+-----------+----------------+---------------+-----------------+-----------------------------------------------+------------------------------------------------------------+----------------------------------------------------------------------------------------------------------+------------------------------------------+------------------------------------------------------------------+\n",
       "only showing top 3 rows\n",
       "\n",
       "</div>"
      ]
     },
     "metadata": {
      "application/vnd.databricks.v1+output": {
       "addedWidgets": {},
       "arguments": {},
       "data": "<div class=\"ansiout\">+----+---------------+--------------+-----------+----------------+---------------+-----------------+-----------------------------------------------+------------------------------------------------------------+----------------------------------------------------------------------------------------------------------+------------------------------------------+------------------------------------------------------------------+\n|date|      geography|geography code|Rural Urban|Number_of_People|Number_of_Males|Number_of_Females|Variable: Lives in a household; measures: Value|Variable: Lives in a communal establishment; measures: Value|Variable: Schoolchild or full-time student aged 4 and over at their non term-time address; measures: Value|Variable: Area (Hectares); measures: Value|Variable: Density (number of persons per hectare); measures: Value|\n+----+---------------+--------------+-----------+----------------+---------------+-----------------+-----------------------------------------------+------------------------------------------------------------+----------------------------------------------------------------------------------------------------------+------------------------------------------+------------------------------------------------------------------+\n|2011|Darlington 001B|     E01012334|      Total|            2466|           1220|             1246|                                           2466|                                                           0|                                                                                                        42|                                   6033.58|                                                               0.4|\n|2011|Darlington 001C|     E01012335|      Total|            1383|            682|              701|                                           1383|                                                           0|                                                                                                        21|                                    114.01|                                                              12.1|\n|2011|Darlington 001D|     E01012366|      Total|            2008|            972|             1036|                                           2008|                                                           0|                                                                                                        30|                                   6718.16|                                                               0.3|\n+----+---------------+--------------+-----------+----------------+---------------+-----------------+-----------------------------------------------+------------------------------------------------------------+----------------------------------------------------------------------------------------------------------+------------------------------------------+------------------------------------------------------------------+\nonly showing top 3 rows\n\n</div>",
       "datasetInfos": [
        {
         "name": "df1",
         "schema": {
          "fields": [
           {
            "metadata": {},
            "name": "date",
            "nullable": true,
            "type": "integer"
           },
           {
            "metadata": {},
            "name": "geography",
            "nullable": true,
            "type": "string"
           },
           {
            "metadata": {},
            "name": "geography code",
            "nullable": true,
            "type": "string"
           },
           {
            "metadata": {},
            "name": "Rural Urban",
            "nullable": true,
            "type": "string"
           },
           {
            "metadata": {},
            "name": "Number_of_People",
            "nullable": true,
            "type": "integer"
           },
           {
            "metadata": {},
            "name": "Number_of_Males",
            "nullable": true,
            "type": "integer"
           },
           {
            "metadata": {},
            "name": "Number_of_Females",
            "nullable": true,
            "type": "integer"
           },
           {
            "metadata": {},
            "name": "Variable: Lives in a household; measures: Value",
            "nullable": true,
            "type": "integer"
           },
           {
            "metadata": {},
            "name": "Variable: Lives in a communal establishment; measures: Value",
            "nullable": true,
            "type": "integer"
           },
           {
            "metadata": {},
            "name": "Variable: Schoolchild or full-time student aged 4 and over at their non term-time address; measures: Value",
            "nullable": true,
            "type": "integer"
           },
           {
            "metadata": {},
            "name": "Variable: Area (Hectares); measures: Value",
            "nullable": true,
            "type": "double"
           },
           {
            "metadata": {},
            "name": "Variable: Density (number of persons per hectare); measures: Value",
            "nullable": true,
            "type": "double"
           }
          ],
          "type": "struct"
         },
         "tableIdentifier": null,
         "typeStr": "pyspark.sql.dataframe.DataFrame"
        }
       ],
       "removedWidgets": [],
       "type": "html"
      }
     },
     "output_type": "display_data"
    }
   ],
   "source": [
    "df1= df1.withColumnRenamed('Variable: All usual residents; measures: Value', 'Number_of_People')\n",
    "df1= df1.withColumnRenamed('Variable: Males; measures: Value', 'Number_of_Males')\n",
    "df1= df1.withColumnRenamed('Variable: Females; measures: Value','Number_of_Females')\n",
    "df1.show(3)\n"
   ]
  },
  {
   "cell_type": "code",
   "execution_count": 0,
   "metadata": {
    "application/vnd.databricks.v1+cell": {
     "inputWidgets": {},
     "nuid": "0d0d8bd6-6a6e-4631-b7b2-da9bd2fea333",
     "showTitle": false,
     "title": ""
    }
   },
   "outputs": [
    {
     "data": {
      "text/html": [
       "<style scoped>\n",
       "  .ansiout {\n",
       "    display: block;\n",
       "    unicode-bidi: embed;\n",
       "    white-space: pre-wrap;\n",
       "    word-wrap: break-word;\n",
       "    word-break: break-all;\n",
       "    font-family: \"Source Code Pro\", \"Menlo\", monospace;;\n",
       "    font-size: 13px;\n",
       "    color: #555;\n",
       "    margin-left: 4px;\n",
       "    line-height: 19px;\n",
       "  }\n",
       "</style>\n",
       "<div class=\"ansiout\">+--------------+----------------+\n",
       "geography code|Number_of_People|\n",
       "+--------------+----------------+\n",
       "     E01012334|            2466|\n",
       "     E01012335|            1383|\n",
       "     E01012366|            2008|\n",
       "+--------------+----------------+\n",
       "only showing top 3 rows\n",
       "\n",
       "</div>"
      ]
     },
     "metadata": {
      "application/vnd.databricks.v1+output": {
       "addedWidgets": {},
       "arguments": {},
       "data": "<div class=\"ansiout\">+--------------+----------------+\n|geography code|Number_of_People|\n+--------------+----------------+\n|     E01012334|            2466|\n|     E01012335|            1383|\n|     E01012366|            2008|\n+--------------+----------------+\nonly showing top 3 rows\n\n</div>",
       "datasetInfos": [
        {
         "name": "df1_sel",
         "schema": {
          "fields": [
           {
            "metadata": {},
            "name": "geography code",
            "nullable": true,
            "type": "string"
           },
           {
            "metadata": {},
            "name": "Number_of_People",
            "nullable": true,
            "type": "integer"
           }
          ],
          "type": "struct"
         },
         "tableIdentifier": null,
         "typeStr": "pyspark.sql.dataframe.DataFrame"
        }
       ],
       "removedWidgets": [],
       "type": "html"
      }
     },
     "output_type": "display_data"
    }
   ],
   "source": [
    "# Slicing the dataframe keeping only required data.\n",
    "df1_sel=df1.select(['geography code','Number_of_People'])\n",
    "df1_sel.show(3)"
   ]
  },
  {
   "cell_type": "code",
   "execution_count": 0,
   "metadata": {
    "application/vnd.databricks.v1+cell": {
     "inputWidgets": {},
     "nuid": "1de3796f-21fd-4fc6-a5f4-fd1d88457f09",
     "showTitle": false,
     "title": ""
    }
   },
   "outputs": [
    {
     "data": {
      "text/html": [
       "<style scoped>\n",
       "  .ansiout {\n",
       "    display: block;\n",
       "    unicode-bidi: embed;\n",
       "    white-space: pre-wrap;\n",
       "    word-wrap: break-word;\n",
       "    word-break: break-all;\n",
       "    font-family: \"Source Code Pro\", \"Menlo\", monospace;;\n",
       "    font-size: 13px;\n",
       "    color: #555;\n",
       "    margin-left: 4px;\n",
       "    line-height: 19px;\n",
       "  }\n",
       "</style>\n",
       "<div class=\"ansiout\">root\n",
       "-- geography code: string (nullable = true)\n",
       "-- Number_of_People: integer (nullable = true)\n",
       "\n",
       "</div>"
      ]
     },
     "metadata": {
      "application/vnd.databricks.v1+output": {
       "addedWidgets": {},
       "arguments": {},
       "data": "<div class=\"ansiout\">root\n |-- geography code: string (nullable = true)\n |-- Number_of_People: integer (nullable = true)\n\n</div>",
       "datasetInfos": [],
       "removedWidgets": [],
       "type": "html"
      }
     },
     "output_type": "display_data"
    }
   ],
   "source": [
    "df1_sel.printSchema()"
   ]
  },
  {
   "cell_type": "code",
   "execution_count": 0,
   "metadata": {
    "application/vnd.databricks.v1+cell": {
     "inputWidgets": {},
     "nuid": "2224f54a-f24d-41c4-8f9b-445164875ab4",
     "showTitle": false,
     "title": ""
    }
   },
   "outputs": [
    {
     "data": {
      "text/html": [
       "<style scoped>\n",
       "  .ansiout {\n",
       "    display: block;\n",
       "    unicode-bidi: embed;\n",
       "    white-space: pre-wrap;\n",
       "    word-wrap: break-word;\n",
       "    word-break: break-all;\n",
       "    font-family: \"Source Code Pro\", \"Menlo\", monospace;;\n",
       "    font-size: 13px;\n",
       "    color: #555;\n",
       "    margin-left: 4px;\n",
       "    line-height: 19px;\n",
       "  }\n",
       "</style>\n",
       "<div class=\"ansiout\"></div>"
      ]
     },
     "metadata": {
      "application/vnd.databricks.v1+output": {
       "addedWidgets": {},
       "arguments": {},
       "data": "<div class=\"ansiout\"></div>",
       "datasetInfos": [
        {
         "name": "df1_sel",
         "schema": {
          "fields": [
           {
            "metadata": {},
            "name": "LSOA_code",
            "nullable": true,
            "type": "string"
           },
           {
            "metadata": {},
            "name": "Number_of_People",
            "nullable": true,
            "type": "integer"
           }
          ],
          "type": "struct"
         },
         "tableIdentifier": null,
         "typeStr": "pyspark.sql.dataframe.DataFrame"
        }
       ],
       "removedWidgets": [],
       "type": "html"
      }
     },
     "output_type": "display_data"
    }
   ],
   "source": [
    "df1_sel= df1_sel.withColumnRenamed('geography code', 'LSOA_code')"
   ]
  },
  {
   "cell_type": "code",
   "execution_count": 0,
   "metadata": {
    "application/vnd.databricks.v1+cell": {
     "inputWidgets": {},
     "nuid": "70c02326-1aea-4a20-9423-a53fbdce5995",
     "showTitle": false,
     "title": ""
    }
   },
   "outputs": [
    {
     "data": {
      "text/html": [
       "<style scoped>\n",
       "  .ansiout {\n",
       "    display: block;\n",
       "    unicode-bidi: embed;\n",
       "    white-space: pre-wrap;\n",
       "    word-wrap: break-word;\n",
       "    word-break: break-all;\n",
       "    font-family: \"Source Code Pro\", \"Menlo\", monospace;;\n",
       "    font-size: 13px;\n",
       "    color: #555;\n",
       "    margin-left: 4px;\n",
       "    line-height: 19px;\n",
       "  }\n",
       "</style>\n",
       "<div class=\"ansiout\">+----------+---------+--------------------+--------------------+\n",
       "     Month|LSOA_code|           LSOA_name|          Crime_type|\n",
       "+----------+---------+--------------------+--------------------+\n",
       "2018-01-01|E01021311|       Basildon 022C|         Other crime|\n",
       "2018-01-01|E01014399|Bath and North Ea...|Anti-social behav...|\n",
       "2018-01-01|E01014399|Bath and North Ea...|            Burglary|\n",
       "+----------+---------+--------------------+--------------------+\n",
       "only showing top 3 rows\n",
       "\n",
       "</div>"
      ]
     },
     "metadata": {
      "application/vnd.databricks.v1+output": {
       "addedWidgets": {},
       "arguments": {},
       "data": "<div class=\"ansiout\">+----------+---------+--------------------+--------------------+\n|     Month|LSOA_code|           LSOA_name|          Crime_type|\n+----------+---------+--------------------+--------------------+\n|2018-01-01|E01021311|       Basildon 022C|         Other crime|\n|2018-01-01|E01014399|Bath and North Ea...|Anti-social behav...|\n|2018-01-01|E01014399|Bath and North Ea...|            Burglary|\n+----------+---------+--------------------+--------------------+\nonly showing top 3 rows\n\n</div>",
       "datasetInfos": [
        {
         "name": "df_sel",
         "schema": {
          "fields": [
           {
            "metadata": {},
            "name": "Month",
            "nullable": true,
            "type": "date"
           },
           {
            "metadata": {},
            "name": "LSOA_code",
            "nullable": true,
            "type": "string"
           },
           {
            "metadata": {},
            "name": "LSOA_name",
            "nullable": true,
            "type": "string"
           },
           {
            "metadata": {},
            "name": "Crime_type",
            "nullable": true,
            "type": "string"
           }
          ],
          "type": "struct"
         },
         "tableIdentifier": null,
         "typeStr": "pyspark.sql.dataframe.DataFrame"
        }
       ],
       "removedWidgets": [],
       "type": "html"
      }
     },
     "output_type": "display_data"
    }
   ],
   "source": [
    "# Slicing the crime dataframe\n",
    "df_sel=df_new.select(['Month','LSOA_code', 'LSOA_name','Crime_type'])\n",
    "df_sel.show(3)\n"
   ]
  },
  {
   "cell_type": "code",
   "execution_count": 0,
   "metadata": {
    "application/vnd.databricks.v1+cell": {
     "inputWidgets": {},
     "nuid": "4d2ce319-e14a-4b3d-901f-b8e78ddc8713",
     "showTitle": false,
     "title": ""
    }
   },
   "outputs": [
    {
     "data": {
      "text/html": [
       "<style scoped>\n",
       "  .ansiout {\n",
       "    display: block;\n",
       "    unicode-bidi: embed;\n",
       "    white-space: pre-wrap;\n",
       "    word-wrap: break-word;\n",
       "    word-break: break-all;\n",
       "    font-family: \"Source Code Pro\", \"Menlo\", monospace;;\n",
       "    font-size: 13px;\n",
       "    color: #555;\n",
       "    margin-left: 4px;\n",
       "    line-height: 19px;\n",
       "  }\n",
       "</style>\n",
       "<div class=\"ansiout\">+----------+---------+--------------------+--------------------+------+\n",
       "     Month|LSOA_code|           LSOA_name|          Crime_type|LSOA_6|\n",
       "+----------+---------+--------------------+--------------------+------+\n",
       "2018-01-01|E01021311|       Basildon 022C|         Other crime|Basild|\n",
       "2018-01-01|E01014399|Bath and North Ea...|Anti-social behav...|Bath a|\n",
       "2018-01-01|E01014399|Bath and North Ea...|            Burglary|Bath a|\n",
       "+----------+---------+--------------------+--------------------+------+\n",
       "only showing top 3 rows\n",
       "\n",
       "</div>"
      ]
     },
     "metadata": {
      "application/vnd.databricks.v1+output": {
       "addedWidgets": {},
       "arguments": {},
       "data": "<div class=\"ansiout\">+----------+---------+--------------------+--------------------+------+\n|     Month|LSOA_code|           LSOA_name|          Crime_type|LSOA_6|\n+----------+---------+--------------------+--------------------+------+\n|2018-01-01|E01021311|       Basildon 022C|         Other crime|Basild|\n|2018-01-01|E01014399|Bath and North Ea...|Anti-social behav...|Bath a|\n|2018-01-01|E01014399|Bath and North Ea...|            Burglary|Bath a|\n+----------+---------+--------------------+--------------------+------+\nonly showing top 3 rows\n\n</div>",
       "datasetInfos": [
        {
         "name": "df_sel",
         "schema": {
          "fields": [
           {
            "metadata": {},
            "name": "Month",
            "nullable": true,
            "type": "date"
           },
           {
            "metadata": {},
            "name": "LSOA_code",
            "nullable": true,
            "type": "string"
           },
           {
            "metadata": {},
            "name": "LSOA_name",
            "nullable": true,
            "type": "string"
           },
           {
            "metadata": {},
            "name": "Crime_type",
            "nullable": true,
            "type": "string"
           },
           {
            "metadata": {},
            "name": "LSOA_6",
            "nullable": true,
            "type": "string"
           }
          ],
          "type": "struct"
         },
         "tableIdentifier": null,
         "typeStr": "pyspark.sql.dataframe.DataFrame"
        }
       ],
       "removedWidgets": [],
       "type": "html"
      }
     },
     "output_type": "display_data"
    }
   ],
   "source": [
    "df_sel = df_sel.withColumn(\"LSOA_6\", df_sel.LSOA_name.substr(1,6))\n",
    "df_sel.show(3)"
   ]
  },
  {
   "cell_type": "code",
   "execution_count": 0,
   "metadata": {
    "application/vnd.databricks.v1+cell": {
     "inputWidgets": {},
     "nuid": "7d381acc-624b-4ab4-9f01-f83afc017165",
     "showTitle": false,
     "title": ""
    }
   },
   "outputs": [
    {
     "data": {
      "text/html": [
       "<style scoped>\n",
       "  .ansiout {\n",
       "    display: block;\n",
       "    unicode-bidi: embed;\n",
       "    white-space: pre-wrap;\n",
       "    word-wrap: break-word;\n",
       "    word-break: break-all;\n",
       "    font-family: \"Source Code Pro\", \"Menlo\", monospace;;\n",
       "    font-size: 13px;\n",
       "    color: #555;\n",
       "    margin-left: 4px;\n",
       "    line-height: 19px;\n",
       "  }\n",
       "</style>\n",
       "<div class=\"ansiout\">+---------+----------+--------------------+--------------------+------+----------------+\n",
       "LSOA_code|     Month|           LSOA_name|          Crime_type|LSOA_6|Number_of_People|\n",
       "+---------+----------+--------------------+--------------------+------+----------------+\n",
       "E01021311|2018-01-01|       Basildon 022C|         Other crime|Basild|            1349|\n",
       "E01014399|2018-01-01|Bath and North Ea...|Anti-social behav...|Bath a|            1624|\n",
       "E01014399|2018-01-01|Bath and North Ea...|            Burglary|Bath a|            1624|\n",
       "+---------+----------+--------------------+--------------------+------+----------------+\n",
       "only showing top 3 rows\n",
       "\n",
       "</div>"
      ]
     },
     "metadata": {
      "application/vnd.databricks.v1+output": {
       "addedWidgets": {},
       "arguments": {},
       "data": "<div class=\"ansiout\">+---------+----------+--------------------+--------------------+------+----------------+\n|LSOA_code|     Month|           LSOA_name|          Crime_type|LSOA_6|Number_of_People|\n+---------+----------+--------------------+--------------------+------+----------------+\n|E01021311|2018-01-01|       Basildon 022C|         Other crime|Basild|            1349|\n|E01014399|2018-01-01|Bath and North Ea...|Anti-social behav...|Bath a|            1624|\n|E01014399|2018-01-01|Bath and North Ea...|            Burglary|Bath a|            1624|\n+---------+----------+--------------------+--------------------+------+----------------+\nonly showing top 3 rows\n\n</div>",
       "datasetInfos": [
        {
         "name": "df_joined",
         "schema": {
          "fields": [
           {
            "metadata": {},
            "name": "LSOA_code",
            "nullable": true,
            "type": "string"
           },
           {
            "metadata": {},
            "name": "Month",
            "nullable": true,
            "type": "date"
           },
           {
            "metadata": {},
            "name": "LSOA_name",
            "nullable": true,
            "type": "string"
           },
           {
            "metadata": {},
            "name": "Crime_type",
            "nullable": true,
            "type": "string"
           },
           {
            "metadata": {},
            "name": "LSOA_6",
            "nullable": true,
            "type": "string"
           },
           {
            "metadata": {},
            "name": "Number_of_People",
            "nullable": true,
            "type": "integer"
           }
          ],
          "type": "struct"
         },
         "tableIdentifier": null,
         "typeStr": "pyspark.sql.dataframe.DataFrame"
        }
       ],
       "removedWidgets": [],
       "type": "html"
      }
     },
     "output_type": "display_data"
    }
   ],
   "source": [
    "# Merging crime and LSOA slices\n",
    "df_joined= df_sel.join(df1_sel, on='LSOA_code', how='left_outer')\n",
    "df_joined.show(3)\n"
   ]
  },
  {
   "cell_type": "code",
   "execution_count": 0,
   "metadata": {
    "application/vnd.databricks.v1+cell": {
     "inputWidgets": {},
     "nuid": "10cdd760-61fc-419f-801e-82e1bdeb570e",
     "showTitle": false,
     "title": ""
    }
   },
   "outputs": [
    {
     "data": {
      "text/html": [
       "<style scoped>\n",
       "  .ansiout {\n",
       "    display: block;\n",
       "    unicode-bidi: embed;\n",
       "    white-space: pre-wrap;\n",
       "    word-wrap: break-word;\n",
       "    word-break: break-all;\n",
       "    font-family: \"Source Code Pro\", \"Menlo\", monospace;;\n",
       "    font-size: 13px;\n",
       "    color: #555;\n",
       "    margin-left: 4px;\n",
       "    line-height: 19px;\n",
       "  }\n",
       "</style>\n",
       "<div class=\"ansiout\">+------+-----+\n",
       "LSOA_6|y_cnt|\n",
       "+------+-----+\n",
       "Carlis|   39|\n",
       "Charnw|   76|\n",
       "Leeds |  449|\n",
       "+------+-----+\n",
       "only showing top 3 rows\n",
       "\n",
       "</div>"
      ]
     },
     "metadata": {
      "application/vnd.databricks.v1+output": {
       "addedWidgets": {},
       "arguments": {},
       "data": "<div class=\"ansiout\">+------+-----+\n|LSOA_6|y_cnt|\n+------+-----+\n|Carlis|   39|\n|Charnw|   76|\n|Leeds |  449|\n+------+-----+\nonly showing top 3 rows\n\n</div>",
       "datasetInfos": [
        {
         "name": "df_firearm",
         "schema": {
          "fields": [
           {
            "metadata": {},
            "name": "LSOA_6",
            "nullable": true,
            "type": "string"
           },
           {
            "metadata": {},
            "name": "y_cnt",
            "nullable": true,
            "type": "long"
           }
          ],
          "type": "struct"
         },
         "tableIdentifier": null,
         "typeStr": "pyspark.sql.dataframe.DataFrame"
        }
       ],
       "removedWidgets": [],
       "type": "html"
      }
     },
     "output_type": "display_data"
    }
   ],
   "source": [
    "# Df for firearm incidents.\n",
    "df_firearm=df_joined.groupBy('LSOA_6').agg(\n",
    "    cnt_cond(F.col('Crime_type').isin(['Possession of weapons', 'Public disorder and weapons'])).alias('y_cnt'))\n",
    "df_firearm.show(3)"
   ]
  },
  {
   "cell_type": "code",
   "execution_count": 0,
   "metadata": {
    "application/vnd.databricks.v1+cell": {
     "inputWidgets": {},
     "nuid": "df4874e8-94ce-4cc8-bc7d-789c92a7ac01",
     "showTitle": false,
     "title": ""
    }
   },
   "outputs": [
    {
     "data": {
      "text/html": [
       "<style scoped>\n",
       "  .ansiout {\n",
       "    display: block;\n",
       "    unicode-bidi: embed;\n",
       "    white-space: pre-wrap;\n",
       "    word-wrap: break-word;\n",
       "    word-break: break-all;\n",
       "    font-family: \"Source Code Pro\", \"Menlo\", monospace;;\n",
       "    font-size: 13px;\n",
       "    color: #555;\n",
       "    margin-left: 4px;\n",
       "    line-height: 19px;\n",
       "  }\n",
       "</style>\n",
       "<div class=\"ansiout\"></div>"
      ]
     },
     "metadata": {
      "application/vnd.databricks.v1+output": {
       "addedWidgets": {},
       "arguments": {},
       "data": "<div class=\"ansiout\"></div>",
       "datasetInfos": [
        {
         "name": "df_population",
         "schema": {
          "fields": [
           {
            "metadata": {},
            "name": "LSOA_6",
            "nullable": true,
            "type": "string"
           },
           {
            "metadata": {},
            "name": "total_population",
            "nullable": true,
            "type": "long"
           }
          ],
          "type": "struct"
         },
         "tableIdentifier": null,
         "typeStr": "pyspark.sql.dataframe.DataFrame"
        }
       ],
       "removedWidgets": [],
       "type": "html"
      }
     },
     "output_type": "display_data"
    }
   ],
   "source": [
    "# Grouping the population by LSOA\n",
    "df_population = df_joined.groupby(\"LSOA_6\").\\\n",
    "    agg(\n",
    "        func.sumDistinct(\"Number_of_People\").alias(\"total_population\")\n",
    "    )\n",
    "\n"
   ]
  },
  {
   "cell_type": "code",
   "execution_count": 0,
   "metadata": {
    "application/vnd.databricks.v1+cell": {
     "inputWidgets": {},
     "nuid": "b31d2686-142e-4469-a485-cfbab694ee51",
     "showTitle": false,
     "title": ""
    }
   },
   "outputs": [
    {
     "data": {
      "text/html": [
       "<style scoped>\n",
       "  .ansiout {\n",
       "    display: block;\n",
       "    unicode-bidi: embed;\n",
       "    white-space: pre-wrap;\n",
       "    word-wrap: break-word;\n",
       "    word-break: break-all;\n",
       "    font-family: \"Source Code Pro\", \"Menlo\", monospace;;\n",
       "    font-size: 13px;\n",
       "    color: #555;\n",
       "    margin-left: 4px;\n",
       "    line-height: 19px;\n",
       "  }\n",
       "</style>\n",
       "<div class=\"ansiout\">+------+----------------+\n",
       "LSOA_6|total_population|\n",
       "+------+----------------+\n",
       "Carlis|          100866|\n",
       "Charnw|          154546|\n",
       "Leeds |          539479|\n",
       "+------+----------------+\n",
       "only showing top 3 rows\n",
       "\n",
       "</div>"
      ]
     },
     "metadata": {
      "application/vnd.databricks.v1+output": {
       "addedWidgets": {},
       "arguments": {},
       "data": "<div class=\"ansiout\">+------+----------------+\n|LSOA_6|total_population|\n+------+----------------+\n|Carlis|          100866|\n|Charnw|          154546|\n|Leeds |          539479|\n+------+----------------+\nonly showing top 3 rows\n\n</div>",
       "datasetInfos": [],
       "removedWidgets": [],
       "type": "html"
      }
     },
     "output_type": "display_data"
    }
   ],
   "source": [
    "# look at the population data and cross check on internet\n",
    "df_population.show(3)\n",
    "# Population data is validated through internet information"
   ]
  },
  {
   "cell_type": "code",
   "execution_count": 0,
   "metadata": {
    "application/vnd.databricks.v1+cell": {
     "inputWidgets": {},
     "nuid": "8cf49a0a-d81f-4bf8-b68b-aebb35d5d1a3",
     "showTitle": false,
     "title": ""
    }
   },
   "outputs": [
    {
     "data": {
      "text/html": [
       "<style scoped>\n",
       "  .ansiout {\n",
       "    display: block;\n",
       "    unicode-bidi: embed;\n",
       "    white-space: pre-wrap;\n",
       "    word-wrap: break-word;\n",
       "    word-break: break-all;\n",
       "    font-family: \"Source Code Pro\", \"Menlo\", monospace;;\n",
       "    font-size: 13px;\n",
       "    color: #555;\n",
       "    margin-left: 4px;\n",
       "    line-height: 19px;\n",
       "  }\n",
       "</style>\n",
       "<div class=\"ansiout\">+------+-----+----------------+\n",
       "LSOA_6|y_cnt|total_population|\n",
       "+------+-----+----------------+\n",
       "Carlis|   39|          100866|\n",
       "Charnw|   76|          154546|\n",
       "Leeds |  449|          539479|\n",
       "+------+-----+----------------+\n",
       "only showing top 3 rows\n",
       "\n",
       "</div>"
      ]
     },
     "metadata": {
      "application/vnd.databricks.v1+output": {
       "addedWidgets": {},
       "arguments": {},
       "data": "<div class=\"ansiout\">+------+-----+----------------+\n|LSOA_6|y_cnt|total_population|\n+------+-----+----------------+\n|Carlis|   39|          100866|\n|Charnw|   76|          154546|\n|Leeds |  449|          539479|\n+------+-----+----------------+\nonly showing top 3 rows\n\n</div>",
       "datasetInfos": [
        {
         "name": "df_per_capita",
         "schema": {
          "fields": [
           {
            "metadata": {},
            "name": "LSOA_6",
            "nullable": true,
            "type": "string"
           },
           {
            "metadata": {},
            "name": "y_cnt",
            "nullable": true,
            "type": "long"
           },
           {
            "metadata": {},
            "name": "total_population",
            "nullable": true,
            "type": "long"
           }
          ],
          "type": "struct"
         },
         "tableIdentifier": null,
         "typeStr": "pyspark.sql.dataframe.DataFrame"
        }
       ],
       "removedWidgets": [],
       "type": "html"
      }
     },
     "output_type": "display_data"
    }
   ],
   "source": [
    "# Joining population and firearms dataframes.\n",
    "df_per_capita= df_firearm.join(df_population, on='LSOA_6', how='left_outer')\n",
    "df_per_capita.show(3)"
   ]
  },
  {
   "cell_type": "code",
   "execution_count": 0,
   "metadata": {
    "application/vnd.databricks.v1+cell": {
     "inputWidgets": {},
     "nuid": "711b492a-f5c1-4e51-903c-6413e708ec0b",
     "showTitle": false,
     "title": ""
    }
   },
   "outputs": [
    {
     "data": {
      "text/html": [
       "<style scoped>\n",
       "  .ansiout {\n",
       "    display: block;\n",
       "    unicode-bidi: embed;\n",
       "    white-space: pre-wrap;\n",
       "    word-wrap: break-word;\n",
       "    word-break: break-all;\n",
       "    font-family: \"Source Code Pro\", \"Menlo\", monospace;;\n",
       "    font-size: 13px;\n",
       "    color: #555;\n",
       "    margin-left: 4px;\n",
       "    line-height: 19px;\n",
       "  }\n",
       "</style>\n",
       "<div class=\"ansiout\"></div>"
      ]
     },
     "metadata": {
      "application/vnd.databricks.v1+output": {
       "addedWidgets": {},
       "arguments": {},
       "data": "<div class=\"ansiout\"></div>",
       "datasetInfos": [
        {
         "name": "df_per_capita",
         "schema": {
          "fields": [
           {
            "metadata": {},
            "name": "LSOA_6",
            "nullable": true,
            "type": "string"
           },
           {
            "metadata": {},
            "name": "y_cnt",
            "nullable": true,
            "type": "long"
           },
           {
            "metadata": {},
            "name": "total_population",
            "nullable": true,
            "type": "long"
           },
           {
            "metadata": {},
            "name": "per_head",
            "nullable": true,
            "type": "double"
           }
          ],
          "type": "struct"
         },
         "tableIdentifier": null,
         "typeStr": "pyspark.sql.dataframe.DataFrame"
        }
       ],
       "removedWidgets": [],
       "type": "html"
      }
     },
     "output_type": "display_data"
    }
   ],
   "source": [
    "# Calculating firearm incidents per head\n",
    "df_per_capita=df_per_capita.withColumn('per_head', df_per_capita['y_cnt']/df_per_capita['total_population'])"
   ]
  },
  {
   "cell_type": "code",
   "execution_count": 0,
   "metadata": {
    "application/vnd.databricks.v1+cell": {
     "inputWidgets": {},
     "nuid": "b2874db3-83c4-40cf-b170-c548dfaffdd7",
     "showTitle": false,
     "title": ""
    }
   },
   "outputs": [
    {
     "data": {
      "text/html": [
       "<style scoped>\n",
       "  .ansiout {\n",
       "    display: block;\n",
       "    unicode-bidi: embed;\n",
       "    white-space: pre-wrap;\n",
       "    word-wrap: break-word;\n",
       "    word-break: break-all;\n",
       "    font-family: \"Source Code Pro\", \"Menlo\", monospace;;\n",
       "    font-size: 13px;\n",
       "    color: #555;\n",
       "    margin-left: 4px;\n",
       "    line-height: 19px;\n",
       "  }\n",
       "</style>\n",
       "<div class=\"ansiout\">+------+-----+----------------+--------------------+\n",
       "LSOA_6|y_cnt|total_population|            per_head|\n",
       "+------+-----+----------------+--------------------+\n",
       "Carlis|   39|          100866|3.866515971685206E-4|\n",
       "Charnw|   76|          154546|4.917629702483403E-4|\n",
       "Leeds |  449|          539479|8.322844818797395E-4|\n",
       "+------+-----+----------------+--------------------+\n",
       "only showing top 3 rows\n",
       "\n",
       "</div>"
      ]
     },
     "metadata": {
      "application/vnd.databricks.v1+output": {
       "addedWidgets": {},
       "arguments": {},
       "data": "<div class=\"ansiout\">+------+-----+----------------+--------------------+\n|LSOA_6|y_cnt|total_population|            per_head|\n+------+-----+----------------+--------------------+\n|Carlis|   39|          100866|3.866515971685206E-4|\n|Charnw|   76|          154546|4.917629702483403E-4|\n|Leeds |  449|          539479|8.322844818797395E-4|\n+------+-----+----------------+--------------------+\nonly showing top 3 rows\n\n</div>",
       "datasetInfos": [],
       "removedWidgets": [],
       "type": "html"
      }
     },
     "output_type": "display_data"
    }
   ],
   "source": [
    "df_per_capita.show(3)"
   ]
  },
  {
   "cell_type": "code",
   "execution_count": 0,
   "metadata": {
    "application/vnd.databricks.v1+cell": {
     "inputWidgets": {},
     "nuid": "1cd9a009-d4fa-4d15-87bf-acdad9bf61ea",
     "showTitle": false,
     "title": ""
    }
   },
   "outputs": [
    {
     "data": {
      "text/html": [
       "<style scoped>\n",
       "  .ansiout {\n",
       "    display: block;\n",
       "    unicode-bidi: embed;\n",
       "    white-space: pre-wrap;\n",
       "    word-wrap: break-word;\n",
       "    word-break: break-all;\n",
       "    font-family: \"Source Code Pro\", \"Menlo\", monospace;;\n",
       "    font-size: 13px;\n",
       "    color: #555;\n",
       "    margin-left: 4px;\n",
       "    line-height: 19px;\n",
       "  }\n",
       "</style>\n",
       "<div class=\"ansiout\"></div>"
      ]
     },
     "metadata": {
      "application/vnd.databricks.v1+output": {
       "addedWidgets": {},
       "arguments": {},
       "data": "<div class=\"ansiout\"></div>",
       "datasetInfos": [],
       "removedWidgets": [],
       "type": "html"
      }
     },
     "output_type": "display_data"
    }
   ],
   "source": [
    "# Converting into pandas dataframe\n",
    "pdf1 = (\n",
    "    df_per_capita.select(\n",
    "        \"LSOA_6\",\n",
    "        \"per_head\")\n",
    "    .orderBy(\"per_head\")\n",
    "    .toPandas()\n",
    ")"
   ]
  },
  {
   "cell_type": "code",
   "execution_count": 0,
   "metadata": {
    "application/vnd.databricks.v1+cell": {
     "inputWidgets": {},
     "nuid": "91803f1b-a06c-446a-96dc-6f5a4366a59d",
     "showTitle": false,
     "title": ""
    }
   },
   "outputs": [
    {
     "data": {
      "text/html": [
       "<div>\n",
       "<style scoped>\n",
       "    .dataframe tbody tr th:only-of-type {\n",
       "        vertical-align: middle;\n",
       "    }\n",
       "\n",
       "    .dataframe tbody tr th {\n",
       "        vertical-align: top;\n",
       "    }\n",
       "\n",
       "    .dataframe thead th {\n",
       "        text-align: right;\n",
       "    }\n",
       "</style>\n",
       "<table border=\"1\" class=\"dataframe\">\n",
       "  <thead>\n",
       "    <tr style=\"text-align: right;\">\n",
       "      <th></th>\n",
       "      <th>LSOA_6</th>\n",
       "      <th>per_head</th>\n",
       "    </tr>\n",
       "  </thead>\n",
       "  <tbody>\n",
       "    <tr>\n",
       "      <th>280</th>\n",
       "      <td>Leeds</td>\n",
       "      <td>0.000832</td>\n",
       "    </tr>\n",
       "    <tr>\n",
       "      <th>281</th>\n",
       "      <td>Birmin</td>\n",
       "      <td>0.000834</td>\n",
       "    </tr>\n",
       "    <tr>\n",
       "      <th>282</th>\n",
       "      <td>Tower</td>\n",
       "      <td>0.000838</td>\n",
       "    </tr>\n",
       "    <tr>\n",
       "      <th>283</th>\n",
       "      <td>Southa</td>\n",
       "      <td>0.000838</td>\n",
       "    </tr>\n",
       "    <tr>\n",
       "      <th>284</th>\n",
       "      <td>Newcas</td>\n",
       "      <td>0.000849</td>\n",
       "    </tr>\n",
       "    <tr>\n",
       "      <th>285</th>\n",
       "      <td>Oldham</td>\n",
       "      <td>0.000877</td>\n",
       "    </tr>\n",
       "    <tr>\n",
       "      <th>286</th>\n",
       "      <td>Windso</td>\n",
       "      <td>0.000900</td>\n",
       "    </tr>\n",
       "    <tr>\n",
       "      <th>287</th>\n",
       "      <td>Haring</td>\n",
       "      <td>0.000906</td>\n",
       "    </tr>\n",
       "    <tr>\n",
       "      <th>288</th>\n",
       "      <td>Tamesi</td>\n",
       "      <td>0.000978</td>\n",
       "    </tr>\n",
       "    <tr>\n",
       "      <th>289</th>\n",
       "      <td>Bright</td>\n",
       "      <td>0.000982</td>\n",
       "    </tr>\n",
       "    <tr>\n",
       "      <th>290</th>\n",
       "      <td>Lambet</td>\n",
       "      <td>0.000984</td>\n",
       "    </tr>\n",
       "    <tr>\n",
       "      <th>291</th>\n",
       "      <td>Southw</td>\n",
       "      <td>0.000992</td>\n",
       "    </tr>\n",
       "    <tr>\n",
       "      <th>292</th>\n",
       "      <td>Norwic</td>\n",
       "      <td>0.001003</td>\n",
       "    </tr>\n",
       "    <tr>\n",
       "      <th>293</th>\n",
       "      <td>Hastin</td>\n",
       "      <td>0.001007</td>\n",
       "    </tr>\n",
       "    <tr>\n",
       "      <th>294</th>\n",
       "      <td>Nottin</td>\n",
       "      <td>0.001031</td>\n",
       "    </tr>\n",
       "    <tr>\n",
       "      <th>295</th>\n",
       "      <td>Leices</td>\n",
       "      <td>0.001045</td>\n",
       "    </tr>\n",
       "    <tr>\n",
       "      <th>296</th>\n",
       "      <td>St Alb</td>\n",
       "      <td>0.001104</td>\n",
       "    </tr>\n",
       "    <tr>\n",
       "      <th>297</th>\n",
       "      <td>Shepwa</td>\n",
       "      <td>0.001131</td>\n",
       "    </tr>\n",
       "    <tr>\n",
       "      <th>298</th>\n",
       "      <td>Salfor</td>\n",
       "      <td>0.001142</td>\n",
       "    </tr>\n",
       "    <tr>\n",
       "      <th>299</th>\n",
       "      <td>Hertsm</td>\n",
       "      <td>0.001169</td>\n",
       "    </tr>\n",
       "    <tr>\n",
       "      <th>300</th>\n",
       "      <td>Westmi</td>\n",
       "      <td>0.001225</td>\n",
       "    </tr>\n",
       "    <tr>\n",
       "      <th>301</th>\n",
       "      <td>Dacoru</td>\n",
       "      <td>0.001350</td>\n",
       "    </tr>\n",
       "    <tr>\n",
       "      <th>302</th>\n",
       "      <td>Broxbo</td>\n",
       "      <td>0.001452</td>\n",
       "    </tr>\n",
       "    <tr>\n",
       "      <th>303</th>\n",
       "      <td>Crawle</td>\n",
       "      <td>0.001501</td>\n",
       "    </tr>\n",
       "    <tr>\n",
       "      <th>304</th>\n",
       "      <td>Manche</td>\n",
       "      <td>0.001534</td>\n",
       "    </tr>\n",
       "    <tr>\n",
       "      <th>305</th>\n",
       "      <td>Welwyn</td>\n",
       "      <td>0.001576</td>\n",
       "    </tr>\n",
       "    <tr>\n",
       "      <th>306</th>\n",
       "      <td>Watfor</td>\n",
       "      <td>0.001705</td>\n",
       "    </tr>\n",
       "    <tr>\n",
       "      <th>307</th>\n",
       "      <td>Steven</td>\n",
       "      <td>0.002127</td>\n",
       "    </tr>\n",
       "    <tr>\n",
       "      <th>308</th>\n",
       "      <td>City o</td>\n",
       "      <td>0.005153</td>\n",
       "    </tr>\n",
       "    <tr>\n",
       "      <th>309</th>\n",
       "      <td>Uttles</td>\n",
       "      <td>0.006497</td>\n",
       "    </tr>\n",
       "  </tbody>\n",
       "</table>\n",
       "</div>"
      ]
     },
     "metadata": {
      "application/vnd.databricks.v1+output": {
       "addedWidgets": {},
       "arguments": {},
       "data": "<div>\n<style scoped>\n    .dataframe tbody tr th:only-of-type {\n        vertical-align: middle;\n    }\n\n    .dataframe tbody tr th {\n        vertical-align: top;\n    }\n\n    .dataframe thead th {\n        text-align: right;\n    }\n</style>\n<table border=\"1\" class=\"dataframe\">\n  <thead>\n    <tr style=\"text-align: right;\">\n      <th></th>\n      <th>LSOA_6</th>\n      <th>per_head</th>\n    </tr>\n  </thead>\n  <tbody>\n    <tr>\n      <th>280</th>\n      <td>Leeds</td>\n      <td>0.000832</td>\n    </tr>\n    <tr>\n      <th>281</th>\n      <td>Birmin</td>\n      <td>0.000834</td>\n    </tr>\n    <tr>\n      <th>282</th>\n      <td>Tower</td>\n      <td>0.000838</td>\n    </tr>\n    <tr>\n      <th>283</th>\n      <td>Southa</td>\n      <td>0.000838</td>\n    </tr>\n    <tr>\n      <th>284</th>\n      <td>Newcas</td>\n      <td>0.000849</td>\n    </tr>\n    <tr>\n      <th>285</th>\n      <td>Oldham</td>\n      <td>0.000877</td>\n    </tr>\n    <tr>\n      <th>286</th>\n      <td>Windso</td>\n      <td>0.000900</td>\n    </tr>\n    <tr>\n      <th>287</th>\n      <td>Haring</td>\n      <td>0.000906</td>\n    </tr>\n    <tr>\n      <th>288</th>\n      <td>Tamesi</td>\n      <td>0.000978</td>\n    </tr>\n    <tr>\n      <th>289</th>\n      <td>Bright</td>\n      <td>0.000982</td>\n    </tr>\n    <tr>\n      <th>290</th>\n      <td>Lambet</td>\n      <td>0.000984</td>\n    </tr>\n    <tr>\n      <th>291</th>\n      <td>Southw</td>\n      <td>0.000992</td>\n    </tr>\n    <tr>\n      <th>292</th>\n      <td>Norwic</td>\n      <td>0.001003</td>\n    </tr>\n    <tr>\n      <th>293</th>\n      <td>Hastin</td>\n      <td>0.001007</td>\n    </tr>\n    <tr>\n      <th>294</th>\n      <td>Nottin</td>\n      <td>0.001031</td>\n    </tr>\n    <tr>\n      <th>295</th>\n      <td>Leices</td>\n      <td>0.001045</td>\n    </tr>\n    <tr>\n      <th>296</th>\n      <td>St Alb</td>\n      <td>0.001104</td>\n    </tr>\n    <tr>\n      <th>297</th>\n      <td>Shepwa</td>\n      <td>0.001131</td>\n    </tr>\n    <tr>\n      <th>298</th>\n      <td>Salfor</td>\n      <td>0.001142</td>\n    </tr>\n    <tr>\n      <th>299</th>\n      <td>Hertsm</td>\n      <td>0.001169</td>\n    </tr>\n    <tr>\n      <th>300</th>\n      <td>Westmi</td>\n      <td>0.001225</td>\n    </tr>\n    <tr>\n      <th>301</th>\n      <td>Dacoru</td>\n      <td>0.001350</td>\n    </tr>\n    <tr>\n      <th>302</th>\n      <td>Broxbo</td>\n      <td>0.001452</td>\n    </tr>\n    <tr>\n      <th>303</th>\n      <td>Crawle</td>\n      <td>0.001501</td>\n    </tr>\n    <tr>\n      <th>304</th>\n      <td>Manche</td>\n      <td>0.001534</td>\n    </tr>\n    <tr>\n      <th>305</th>\n      <td>Welwyn</td>\n      <td>0.001576</td>\n    </tr>\n    <tr>\n      <th>306</th>\n      <td>Watfor</td>\n      <td>0.001705</td>\n    </tr>\n    <tr>\n      <th>307</th>\n      <td>Steven</td>\n      <td>0.002127</td>\n    </tr>\n    <tr>\n      <th>308</th>\n      <td>City o</td>\n      <td>0.005153</td>\n    </tr>\n    <tr>\n      <th>309</th>\n      <td>Uttles</td>\n      <td>0.006497</td>\n    </tr>\n  </tbody>\n</table>\n</div>",
       "datasetInfos": [],
       "removedWidgets": [],
       "textData": "<div class=\"ansiout\">Out[76]: </div>",
       "type": "htmlSandbox"
      }
     },
     "output_type": "display_data"
    }
   ],
   "source": [
    "# Looking at top 30 highest firearm/ person regions\n",
    "pdf1.tail(30)"
   ]
  },
  {
   "cell_type": "code",
   "execution_count": 0,
   "metadata": {
    "application/vnd.databricks.v1+cell": {
     "inputWidgets": {},
     "nuid": "5986c823-bb5f-4361-878a-1aa79edfde52",
     "showTitle": false,
     "title": ""
    }
   },
   "outputs": [
    {
     "data": {
      "text/html": [
       "<div>\n",
       "<style scoped>\n",
       "    .dataframe tbody tr th:only-of-type {\n",
       "        vertical-align: middle;\n",
       "    }\n",
       "\n",
       "    .dataframe tbody tr th {\n",
       "        vertical-align: top;\n",
       "    }\n",
       "\n",
       "    .dataframe thead th {\n",
       "        text-align: right;\n",
       "    }\n",
       "</style>\n",
       "<table border=\"1\" class=\"dataframe\">\n",
       "  <thead>\n",
       "    <tr style=\"text-align: right;\">\n",
       "      <th></th>\n",
       "      <th>LSOA_6</th>\n",
       "      <th>per_head</th>\n",
       "    </tr>\n",
       "  </thead>\n",
       "  <tbody>\n",
       "    <tr>\n",
       "      <th>280</th>\n",
       "      <td>Leeds</td>\n",
       "      <td>0.000832</td>\n",
       "    </tr>\n",
       "    <tr>\n",
       "      <th>281</th>\n",
       "      <td>Birmin</td>\n",
       "      <td>0.000834</td>\n",
       "    </tr>\n",
       "    <tr>\n",
       "      <th>282</th>\n",
       "      <td>Tower</td>\n",
       "      <td>0.000838</td>\n",
       "    </tr>\n",
       "  </tbody>\n",
       "</table>\n",
       "</div>"
      ]
     },
     "metadata": {
      "application/vnd.databricks.v1+output": {
       "addedWidgets": {},
       "arguments": {},
       "data": "<div>\n<style scoped>\n    .dataframe tbody tr th:only-of-type {\n        vertical-align: middle;\n    }\n\n    .dataframe tbody tr th {\n        vertical-align: top;\n    }\n\n    .dataframe thead th {\n        text-align: right;\n    }\n</style>\n<table border=\"1\" class=\"dataframe\">\n  <thead>\n    <tr style=\"text-align: right;\">\n      <th></th>\n      <th>LSOA_6</th>\n      <th>per_head</th>\n    </tr>\n  </thead>\n  <tbody>\n    <tr>\n      <th>280</th>\n      <td>Leeds</td>\n      <td>0.000832</td>\n    </tr>\n    <tr>\n      <th>281</th>\n      <td>Birmin</td>\n      <td>0.000834</td>\n    </tr>\n    <tr>\n      <th>282</th>\n      <td>Tower</td>\n      <td>0.000838</td>\n    </tr>\n  </tbody>\n</table>\n</div>",
       "datasetInfos": [],
       "removedWidgets": [],
       "textData": "<div class=\"ansiout\">Out[78]: </div>",
       "type": "htmlSandbox"
      }
     },
     "output_type": "display_data"
    }
   ],
   "source": [
    "# Let's select only top 30 out of 309 LSOA for easy dipiction\n",
    "pdf_sel=pdf1.iloc[-30:,:]\n",
    "pdf_sel.head(3)"
   ]
  },
  {
   "cell_type": "code",
   "execution_count": 0,
   "metadata": {
    "application/vnd.databricks.v1+cell": {
     "inputWidgets": {},
     "nuid": "5de692f3-dd35-444f-bbaa-f6c17bcac841",
     "showTitle": false,
     "title": ""
    }
   },
   "outputs": [
    {
     "data": {
      "text/html": [
       "<div>\n",
       "<style scoped>\n",
       "    .dataframe tbody tr th:only-of-type {\n",
       "        vertical-align: middle;\n",
       "    }\n",
       "\n",
       "    .dataframe tbody tr th {\n",
       "        vertical-align: top;\n",
       "    }\n",
       "\n",
       "    .dataframe thead th {\n",
       "        text-align: right;\n",
       "    }\n",
       "</style>\n",
       "<table border=\"1\" class=\"dataframe\">\n",
       "  <thead>\n",
       "    <tr style=\"text-align: right;\">\n",
       "      <th></th>\n",
       "      <th>LSOA_6</th>\n",
       "      <th>per_head</th>\n",
       "      <th>per_ten_thousand</th>\n",
       "    </tr>\n",
       "  </thead>\n",
       "  <tbody>\n",
       "    <tr>\n",
       "      <th>280</th>\n",
       "      <td>Leeds</td>\n",
       "      <td>0.000832</td>\n",
       "      <td>8.322845</td>\n",
       "    </tr>\n",
       "    <tr>\n",
       "      <th>281</th>\n",
       "      <td>Birmin</td>\n",
       "      <td>0.000834</td>\n",
       "      <td>8.344626</td>\n",
       "    </tr>\n",
       "    <tr>\n",
       "      <th>282</th>\n",
       "      <td>Tower</td>\n",
       "      <td>0.000838</td>\n",
       "      <td>8.382581</td>\n",
       "    </tr>\n",
       "  </tbody>\n",
       "</table>\n",
       "</div>"
      ]
     },
     "metadata": {
      "application/vnd.databricks.v1+output": {
       "addedWidgets": {},
       "arguments": {},
       "data": "<div>\n<style scoped>\n    .dataframe tbody tr th:only-of-type {\n        vertical-align: middle;\n    }\n\n    .dataframe tbody tr th {\n        vertical-align: top;\n    }\n\n    .dataframe thead th {\n        text-align: right;\n    }\n</style>\n<table border=\"1\" class=\"dataframe\">\n  <thead>\n    <tr style=\"text-align: right;\">\n      <th></th>\n      <th>LSOA_6</th>\n      <th>per_head</th>\n      <th>per_ten_thousand</th>\n    </tr>\n  </thead>\n  <tbody>\n    <tr>\n      <th>280</th>\n      <td>Leeds</td>\n      <td>0.000832</td>\n      <td>8.322845</td>\n    </tr>\n    <tr>\n      <th>281</th>\n      <td>Birmin</td>\n      <td>0.000834</td>\n      <td>8.344626</td>\n    </tr>\n    <tr>\n      <th>282</th>\n      <td>Tower</td>\n      <td>0.000838</td>\n      <td>8.382581</td>\n    </tr>\n  </tbody>\n</table>\n</div>",
       "datasetInfos": [],
       "removedWidgets": [],
       "textData": "<div class=\"ansiout\">/local_disk0/tmp/1610540985492-0/PythonShell.py:1: SettingWithCopyWarning: \nA value is trying to be set on a copy of a slice from a DataFrame.\nTry using .loc[row_indexer,col_indexer] = value instead\n\nSee the caveats in the documentation: https://pandas.pydata.org/pandas-docs/stable/user_guide/indexing.html#returning-a-view-versus-a-copy\n  from __future__ import absolute_import\nOut[79]: </div>",
       "type": "htmlSandbox"
      }
     },
     "output_type": "display_data"
    }
   ],
   "source": [
    "pdf_sel[\"per_ten_thousand\"]=pdf_sel['per_head']*10000\n",
    "pdf_sel.head(3)"
   ]
  },
  {
   "cell_type": "code",
   "execution_count": 0,
   "metadata": {
    "application/vnd.databricks.v1+cell": {
     "inputWidgets": {},
     "nuid": "5f4d1f06-135d-4306-bacf-5422459a59df",
     "showTitle": false,
     "title": ""
    }
   },
   "outputs": [
    {
     "data": {
      "image/png": "[encoded data removed]"
     },
     "metadata": {
      "application/vnd.databricks.v1+output": {
       "addedWidgets": {},
       "arguments": {},
       "data": "/plots/d87ea84d-55ed-427f-a614-c6842e350df5.png",
       "datasetInfos": [],
       "removedWidgets": [],
       "type": "image"
      }
     },
     "output_type": "display_data"
    }
   ],
   "source": [
    "plt.bar(pdf_sel.LSOA_6,pdf_sel.per_ten_thousand)\n",
    "plt.xticks(rotation=90)\n",
    "plt.title(\" Firearm per 10,000 people\")\n",
    "plt.xlabel(\"Top 30 LSOAs\")\n",
    "plt.ylabel('Incidents per 10,000 people')"
   ]
  },
  {
   "cell_type": "markdown",
   "metadata": {
    "application/vnd.databricks.v1+cell": {
     "inputWidgets": {},
     "nuid": "45c61069-ba03-4d47-bed3-257c12541ae4",
     "showTitle": false,
     "title": ""
    }
   },
   "source": [
    "##### Validation of claim-2: By looking at the bar plot, Birmingham holds 29th position in UK out of 309 LSOAs in terms of fire arm incidents per head. So, we can clearly reject the claim made in ITV documentary. Uttlesford is holding the first position with 64 incidents per 10,000 people. City of London which is arguably the most metropolitan city in UK seems to be following US culture being second only to Uttlesford.¶"
   ]
  },
  {
   "cell_type": "markdown",
   "metadata": {
    "application/vnd.databricks.v1+cell": {
     "inputWidgets": {},
     "nuid": "3eee1315-8140-40a0-bd63-ea86219340e7",
     "showTitle": false,
     "title": ""
    }
   },
   "source": [
    "<br/><br/>"
   ]
  },
  {
   "cell_type": "markdown",
   "metadata": {
    "application/vnd.databricks.v1+cell": {
     "inputWidgets": {},
     "nuid": "cc119a66-5855-416b-b901-bfb9c3a4435a",
     "showTitle": false,
     "title": ""
    }
   },
   "source": [
    "#### Claim 3: Crimes involving firearms are closely associated with drugs offences"
   ]
  },
  {
   "cell_type": "code",
   "execution_count": 0,
   "metadata": {
    "application/vnd.databricks.v1+cell": {
     "inputWidgets": {},
     "nuid": "e1d9a4c8-3a31-4d48-a75a-19bcd1181138",
     "showTitle": false,
     "title": ""
    }
   },
   "outputs": [
    {
     "data": {
      "text/html": [
       "<style scoped>\n",
       "  .ansiout {\n",
       "    display: block;\n",
       "    unicode-bidi: embed;\n",
       "    white-space: pre-wrap;\n",
       "    word-wrap: break-word;\n",
       "    word-break: break-all;\n",
       "    font-family: \"Source Code Pro\", \"Menlo\", monospace;;\n",
       "    font-size: 13px;\n",
       "    color: #555;\n",
       "    margin-left: 4px;\n",
       "    line-height: 19px;\n",
       "  }\n",
       "</style>\n",
       "<div class=\"ansiout\">+------+-----------+\n",
       "LSOA_6|drugs_count|\n",
       "+------+-----------+\n",
       "Carlis|        166|\n",
       "Charnw|        147|\n",
       "Leeds |       1226|\n",
       "+------+-----------+\n",
       "only showing top 3 rows\n",
       "\n",
       "</div>"
      ]
     },
     "metadata": {
      "application/vnd.databricks.v1+output": {
       "addedWidgets": {},
       "arguments": {},
       "data": "<div class=\"ansiout\">+------+-----------+\n|LSOA_6|drugs_count|\n+------+-----------+\n|Carlis|        166|\n|Charnw|        147|\n|Leeds |       1226|\n+------+-----------+\nonly showing top 3 rows\n\n</div>",
       "datasetInfos": [
        {
         "name": "df_drugs",
         "schema": {
          "fields": [
           {
            "metadata": {},
            "name": "LSOA_6",
            "nullable": true,
            "type": "string"
           },
           {
            "metadata": {},
            "name": "drugs_count",
            "nullable": true,
            "type": "long"
           }
          ],
          "type": "struct"
         },
         "tableIdentifier": null,
         "typeStr": "pyspark.sql.dataframe.DataFrame"
        }
       ],
       "removedWidgets": [],
       "type": "html"
      }
     },
     "output_type": "display_data"
    }
   ],
   "source": [
    "# A dataframe for LSOA wise drug incidents.\n",
    "df_drugs=df_joined.groupBy('LSOA_6').agg(cnt_cond(F.col('Crime_type') =='Drugs').alias('drugs_count'))\n",
    "df_drugs.show(3)"
   ]
  },
  {
   "cell_type": "code",
   "execution_count": 0,
   "metadata": {
    "application/vnd.databricks.v1+cell": {
     "inputWidgets": {},
     "nuid": "cc50d0da-f548-47cc-9472-aa089b92979c",
     "showTitle": false,
     "title": ""
    }
   },
   "outputs": [
    {
     "data": {
      "text/html": [
       "<style scoped>\n",
       "  .ansiout {\n",
       "    display: block;\n",
       "    unicode-bidi: embed;\n",
       "    white-space: pre-wrap;\n",
       "    word-wrap: break-word;\n",
       "    word-break: break-all;\n",
       "    font-family: \"Source Code Pro\", \"Menlo\", monospace;;\n",
       "    font-size: 13px;\n",
       "    color: #555;\n",
       "    margin-left: 4px;\n",
       "    line-height: 19px;\n",
       "  }\n",
       "</style>\n",
       "<div class=\"ansiout\">+------+-----+-----------+\n",
       "LSOA_6|y_cnt|drugs_count|\n",
       "+------+-----+-----------+\n",
       "Carlis|   39|        166|\n",
       "Charnw|   76|        147|\n",
       "Leeds |  449|       1226|\n",
       "+------+-----+-----------+\n",
       "only showing top 3 rows\n",
       "\n",
       "</div>"
      ]
     },
     "metadata": {
      "application/vnd.databricks.v1+output": {
       "addedWidgets": {},
       "arguments": {},
       "data": "<div class=\"ansiout\">+------+-----+-----------+\n|LSOA_6|y_cnt|drugs_count|\n+------+-----+-----------+\n|Carlis|   39|        166|\n|Charnw|   76|        147|\n|Leeds |  449|       1226|\n+------+-----+-----------+\nonly showing top 3 rows\n\n</div>",
       "datasetInfos": [
        {
         "name": "df_final",
         "schema": {
          "fields": [
           {
            "metadata": {},
            "name": "LSOA_6",
            "nullable": true,
            "type": "string"
           },
           {
            "metadata": {},
            "name": "y_cnt",
            "nullable": true,
            "type": "long"
           },
           {
            "metadata": {},
            "name": "drugs_count",
            "nullable": true,
            "type": "long"
           }
          ],
          "type": "struct"
         },
         "tableIdentifier": null,
         "typeStr": "pyspark.sql.dataframe.DataFrame"
        }
       ],
       "removedWidgets": [],
       "type": "html"
      }
     },
     "output_type": "display_data"
    }
   ],
   "source": [
    "# Joining firearm and drug dataset for further analysis\n",
    "df_final= df_firearm.join(df_drugs, on='LSOA_6', how='left_outer')\n",
    "df_final.show(3)"
   ]
  },
  {
   "cell_type": "code",
   "execution_count": 0,
   "metadata": {
    "application/vnd.databricks.v1+cell": {
     "inputWidgets": {},
     "nuid": "b54e1c42-0cbf-43c6-8f77-1f16ff032c34",
     "showTitle": false,
     "title": ""
    }
   },
   "outputs": [
    {
     "data": {
      "text/html": [
       "<style scoped>\n",
       "  .ansiout {\n",
       "    display: block;\n",
       "    unicode-bidi: embed;\n",
       "    white-space: pre-wrap;\n",
       "    word-wrap: break-word;\n",
       "    word-break: break-all;\n",
       "    font-family: \"Source Code Pro\", \"Menlo\", monospace;;\n",
       "    font-size: 13px;\n",
       "    color: #555;\n",
       "    margin-left: 4px;\n",
       "    line-height: 19px;\n",
       "  }\n",
       "</style>\n",
       "<div class=\"ansiout\">+------+--------------+-----------+\n",
       "LSOA_6|firearms_count|drugs_count|\n",
       "+------+--------------+-----------+\n",
       "Carlis|            39|        166|\n",
       "Charnw|            76|        147|\n",
       "Leeds |           449|       1226|\n",
       "+------+--------------+-----------+\n",
       "only showing top 3 rows\n",
       "\n",
       "</div>"
      ]
     },
     "metadata": {
      "application/vnd.databricks.v1+output": {
       "addedWidgets": {},
       "arguments": {},
       "data": "<div class=\"ansiout\">+------+--------------+-----------+\n|LSOA_6|firearms_count|drugs_count|\n+------+--------------+-----------+\n|Carlis|            39|        166|\n|Charnw|            76|        147|\n|Leeds |           449|       1226|\n+------+--------------+-----------+\nonly showing top 3 rows\n\n</div>",
       "datasetInfos": [
        {
         "name": "df_final",
         "schema": {
          "fields": [
           {
            "metadata": {},
            "name": "LSOA_6",
            "nullable": true,
            "type": "string"
           },
           {
            "metadata": {},
            "name": "firearms_count",
            "nullable": true,
            "type": "long"
           },
           {
            "metadata": {},
            "name": "drugs_count",
            "nullable": true,
            "type": "long"
           }
          ],
          "type": "struct"
         },
         "tableIdentifier": null,
         "typeStr": "pyspark.sql.dataframe.DataFrame"
        }
       ],
       "removedWidgets": [],
       "type": "html"
      }
     },
     "output_type": "display_data"
    }
   ],
   "source": [
    "# Renaming the firearm count column\n",
    "df_final= df_final.withColumnRenamed('y_cnt','firearms_count')\n",
    "df_final.show(3)"
   ]
  },
  {
   "cell_type": "code",
   "execution_count": 0,
   "metadata": {
    "application/vnd.databricks.v1+cell": {
     "inputWidgets": {},
     "nuid": "160b6e9e-5ab7-4d54-bfcb-557df1a1bbde",
     "showTitle": false,
     "title": ""
    }
   },
   "outputs": [
    {
     "data": {
      "text/html": [
       "<style scoped>\n",
       "  .ansiout {\n",
       "    display: block;\n",
       "    unicode-bidi: embed;\n",
       "    white-space: pre-wrap;\n",
       "    word-wrap: break-word;\n",
       "    word-break: break-all;\n",
       "    font-family: \"Source Code Pro\", \"Menlo\", monospace;;\n",
       "    font-size: 13px;\n",
       "    color: #555;\n",
       "    margin-left: 4px;\n",
       "    line-height: 19px;\n",
       "  }\n",
       "</style>\n",
       "<div class=\"ansiout\">Out[86]: 0.8576224694459892</div>"
      ]
     },
     "metadata": {
      "application/vnd.databricks.v1+output": {
       "addedWidgets": {},
       "arguments": {},
       "data": "<div class=\"ansiout\">Out[86]: 0.8576224694459892</div>",
       "datasetInfos": [],
       "removedWidgets": [],
       "type": "html"
      }
     },
     "output_type": "display_data"
    }
   ],
   "source": [
    "# Let's check Pearson correlation first\n",
    "df_final.stat.corr('firearms_count','drugs_count')"
   ]
  },
  {
   "cell_type": "markdown",
   "metadata": {
    "application/vnd.databricks.v1+cell": {
     "inputWidgets": {},
     "nuid": "26facfe0-b9ce-434f-86dd-23d2aa5d7f42",
     "showTitle": false,
     "title": ""
    }
   },
   "source": [
    "##### Note: Spearman correlation is not supported with Spark df. So, converting into Pandas df to do so."
   ]
  },
  {
   "cell_type": "code",
   "execution_count": 0,
   "metadata": {
    "application/vnd.databricks.v1+cell": {
     "inputWidgets": {},
     "nuid": "f4824e42-0b86-482a-bb6f-02ca69929c89",
     "showTitle": false,
     "title": ""
    }
   },
   "outputs": [
    {
     "data": {
      "text/html": [
       "<style scoped>\n",
       "  .ansiout {\n",
       "    display: block;\n",
       "    unicode-bidi: embed;\n",
       "    white-space: pre-wrap;\n",
       "    word-wrap: break-word;\n",
       "    word-break: break-all;\n",
       "    font-family: \"Source Code Pro\", \"Menlo\", monospace;;\n",
       "    font-size: 13px;\n",
       "    color: #555;\n",
       "    margin-left: 4px;\n",
       "    line-height: 19px;\n",
       "  }\n",
       "</style>\n",
       "<div class=\"ansiout\"></div>"
      ]
     },
     "metadata": {
      "application/vnd.databricks.v1+output": {
       "addedWidgets": {},
       "arguments": {},
       "data": "<div class=\"ansiout\"></div>",
       "datasetInfos": [],
       "removedWidgets": [],
       "type": "html"
      }
     },
     "output_type": "display_data"
    }
   ],
   "source": [
    "# Converting into pandas dataframe\n",
    "pdf2 = (\n",
    "    df_final.select(\n",
    "        \"firearms_count\",\n",
    "        \"drugs_count\")\n",
    "    .toPandas()\n",
    ")"
   ]
  },
  {
   "cell_type": "code",
   "execution_count": 0,
   "metadata": {
    "application/vnd.databricks.v1+cell": {
     "inputWidgets": {},
     "nuid": "9aca6a2a-efaf-4c2d-a0b2-0ee44e498a34",
     "showTitle": false,
     "title": ""
    }
   },
   "outputs": [
    {
     "data": {
      "text/html": [
       "<div>\n",
       "<style scoped>\n",
       "    .dataframe tbody tr th:only-of-type {\n",
       "        vertical-align: middle;\n",
       "    }\n",
       "\n",
       "    .dataframe tbody tr th {\n",
       "        vertical-align: top;\n",
       "    }\n",
       "\n",
       "    .dataframe thead th {\n",
       "        text-align: right;\n",
       "    }\n",
       "</style>\n",
       "<table border=\"1\" class=\"dataframe\">\n",
       "  <thead>\n",
       "    <tr style=\"text-align: right;\">\n",
       "      <th></th>\n",
       "      <th>firearms_count</th>\n",
       "      <th>drugs_count</th>\n",
       "    </tr>\n",
       "  </thead>\n",
       "  <tbody>\n",
       "    <tr>\n",
       "      <th>firearms_count</th>\n",
       "      <td>1.000000</td>\n",
       "      <td>0.838724</td>\n",
       "    </tr>\n",
       "    <tr>\n",
       "      <th>drugs_count</th>\n",
       "      <td>0.838724</td>\n",
       "      <td>1.000000</td>\n",
       "    </tr>\n",
       "  </tbody>\n",
       "</table>\n",
       "</div>"
      ]
     },
     "metadata": {
      "application/vnd.databricks.v1+output": {
       "addedWidgets": {},
       "arguments": {},
       "data": "<div>\n<style scoped>\n    .dataframe tbody tr th:only-of-type {\n        vertical-align: middle;\n    }\n\n    .dataframe tbody tr th {\n        vertical-align: top;\n    }\n\n    .dataframe thead th {\n        text-align: right;\n    }\n</style>\n<table border=\"1\" class=\"dataframe\">\n  <thead>\n    <tr style=\"text-align: right;\">\n      <th></th>\n      <th>firearms_count</th>\n      <th>drugs_count</th>\n    </tr>\n  </thead>\n  <tbody>\n    <tr>\n      <th>firearms_count</th>\n      <td>1.000000</td>\n      <td>0.838724</td>\n    </tr>\n    <tr>\n      <th>drugs_count</th>\n      <td>0.838724</td>\n      <td>1.000000</td>\n    </tr>\n  </tbody>\n</table>\n</div>",
       "datasetInfos": [],
       "removedWidgets": [],
       "textData": "<div class=\"ansiout\">Out[42]: </div>",
       "type": "htmlSandbox"
      }
     },
     "output_type": "display_data"
    }
   ],
   "source": [
    "# Spearman correlation.\n",
    "pdf2.corr(method='spearman', min_periods=1)"
   ]
  },
  {
   "cell_type": "code",
   "execution_count": 0,
   "metadata": {
    "application/vnd.databricks.v1+cell": {
     "inputWidgets": {},
     "nuid": "ac2a3051-bebe-4b14-9614-8b1db6dee571",
     "showTitle": false,
     "title": ""
    }
   },
   "outputs": [
    {
     "data": {
      "text/html": [
       "<style scoped>\n",
       "  .ansiout {\n",
       "    display: block;\n",
       "    unicode-bidi: embed;\n",
       "    white-space: pre-wrap;\n",
       "    word-wrap: break-word;\n",
       "    word-break: break-all;\n",
       "    font-family: \"Source Code Pro\", \"Menlo\", monospace;;\n",
       "    font-size: 13px;\n",
       "    color: #555;\n",
       "    margin-left: 4px;\n",
       "    line-height: 19px;\n",
       "  }\n",
       "</style>\n",
       "<div class=\"ansiout\"></div>"
      ]
     },
     "metadata": {
      "application/vnd.databricks.v1+output": {
       "addedWidgets": {},
       "arguments": {},
       "data": "<div class=\"ansiout\"></div>",
       "datasetInfos": [],
       "removedWidgets": [],
       "type": "html"
      }
     },
     "output_type": "display_data"
    }
   ],
   "source": [
    "# There was an outlier giving trouble in viz. Removing that outlier here.\n",
    "pdf2_sel=pdf2[pdf2['firearms_count']<1000]"
   ]
  },
  {
   "cell_type": "code",
   "execution_count": 0,
   "metadata": {
    "application/vnd.databricks.v1+cell": {
     "inputWidgets": {},
     "nuid": "9cff6f39-7260-4060-9d8a-3e35b7740629",
     "showTitle": false,
     "title": ""
    }
   },
   "outputs": [
    {
     "data": {
      "image/png": "[encoded data removed]"
     },
     "metadata": {
      "application/vnd.databricks.v1+output": {
       "addedWidgets": {},
       "arguments": {},
       "data": "/plots/f175c979-609c-47b4-b643-0dbe75db0460.png",
       "datasetInfos": [],
       "removedWidgets": [],
       "type": "image"
      }
     },
     "output_type": "display_data"
    }
   ],
   "source": [
    "# A scatter plot to visualise the relationship.\n",
    "plt.scatter(pdf2_sel.firearms_count,pdf2_sel.drugs_count)\n",
    "plt.title(\" Firearms vs Drugs\")\n",
    "plt.xlabel(\"Firearms\")\n",
    "plt.ylabel('Drugs')"
   ]
  },
  {
   "cell_type": "code",
   "execution_count": 0,
   "metadata": {
    "application/vnd.databricks.v1+cell": {
     "inputWidgets": {},
     "nuid": "9dcfe225-2375-4d98-b239-ec5648e6dd7a",
     "showTitle": false,
     "title": ""
    }
   },
   "outputs": [
    {
     "data": {
      "text/html": [
       "<style scoped>\n",
       "  .ansiout {\n",
       "    display: block;\n",
       "    unicode-bidi: embed;\n",
       "    white-space: pre-wrap;\n",
       "    word-wrap: break-word;\n",
       "    word-break: break-all;\n",
       "    font-family: \"Source Code Pro\", \"Menlo\", monospace;;\n",
       "    font-size: 13px;\n",
       "    color: #555;\n",
       "    margin-left: 4px;\n",
       "    line-height: 19px;\n",
       "  }\n",
       "</style>\n",
       "<div class=\"ansiout\"></div>"
      ]
     },
     "metadata": {
      "application/vnd.databricks.v1+output": {
       "addedWidgets": {},
       "arguments": {},
       "data": "<div class=\"ansiout\"></div>",
       "datasetInfos": [],
       "removedWidgets": [],
       "type": "html"
      }
     },
     "output_type": "display_data"
    }
   ],
   "source": [
    "plt.close()"
   ]
  },
  {
   "cell_type": "code",
   "execution_count": 0,
   "metadata": {
    "application/vnd.databricks.v1+cell": {
     "inputWidgets": {},
     "nuid": "70ba59d7-bd90-4615-907f-3e418affea40",
     "showTitle": false,
     "title": ""
    }
   },
   "outputs": [
    {
     "data": {
      "image/png": "[encoded data removed]"
     },
     "metadata": {
      "application/vnd.databricks.v1+output": {
       "addedWidgets": {},
       "arguments": {},
       "data": "/plots/2635b8c2-a8a7-4807-8934-b4f8ce361f64.png",
       "datasetInfos": [],
       "removedWidgets": [],
       "type": "image"
      }
     },
     "output_type": "display_data"
    }
   ],
   "source": [
    "# Plotting histograms for comparison\n",
    "fig, ax = plt.subplots(1,2)\n",
    "ax[0].hist(pdf2_sel['drugs_count'],alpha=0.7, bins=35, color='green')\n",
    "ax[0].title.set_text('drugs')\n",
    "ax[0].set_xlabel('count of drug incidents')\n",
    "ax[0].set_ylabel('number of occurances')\n",
    "\n",
    "ax[1].title.set_text('firearms count')\n",
    "ax[1].hist(pdf2_sel['firearms_count'], alpha=0.8, bins=35, color='red')\n",
    "ax[1].set_xlabel('count of firearm incidents')\n",
    "ax[1].set_ylabel('number of occurances')\n",
    "\n",
    "\n",
    "plt.show()"
   ]
  },
  {
   "cell_type": "code",
   "execution_count": 0,
   "metadata": {
    "application/vnd.databricks.v1+cell": {
     "inputWidgets": {},
     "nuid": "fc6efe56-b229-41ee-bd2f-bbeaeaffa322",
     "showTitle": false,
     "title": ""
    }
   },
   "outputs": [
    {
     "data": {
      "text/html": [
       "<style scoped>\n",
       "  .ansiout {\n",
       "    display: block;\n",
       "    unicode-bidi: embed;\n",
       "    white-space: pre-wrap;\n",
       "    word-wrap: break-word;\n",
       "    word-break: break-all;\n",
       "    font-family: \"Source Code Pro\", \"Menlo\", monospace;;\n",
       "    font-size: 13px;\n",
       "    color: #555;\n",
       "    margin-left: 4px;\n",
       "    line-height: 19px;\n",
       "  }\n",
       "</style>\n",
       "<div class=\"ansiout\">+------+--------------+-----------+--------------+\n",
       "LSOA_6|firearms_count|drugs_count|      features|\n",
       "+------+--------------+-----------+--------------+\n",
       "Carlis|            39|        166|  [39.0,166.0]|\n",
       "Charnw|            76|        147|  [76.0,147.0]|\n",
       "Leeds |           449|       1226|[449.0,1226.0]|\n",
       "Stroud|            16|         52|   [16.0,52.0]|\n",
       "Cotswo|             4|         28|    [4.0,28.0]|\n",
       "Adur 0|            29|         40|   [29.0,40.0]|\n",
       "Maldon|            21|         30|   [21.0,30.0]|\n",
       "Harbor|            11|         24|   [11.0,24.0]|\n",
       "Westmi|           241|        884| [241.0,884.0]|\n",
       "Bolton|           174|        226| [174.0,226.0]|\n",
       "Basing|           100|        172| [100.0,172.0]|\n",
       "North |           549|       1057|[549.0,1057.0]|\n",
       "Swanse|            71|        454|  [71.0,454.0]|\n",
       "Winche|            30|        104|  [30.0,104.0]|\n",
       "Bromsg|            25|         90|   [25.0,90.0]|\n",
       "Luton |            93|        208|  [93.0,208.0]|\n",
       "Slough|            99|        274|  [99.0,274.0]|\n",
       "Amber |            29|        116|  [29.0,116.0]|\n",
       "Isling|           133|        687| [133.0,687.0]|\n",
       "Worces|            43|        163|  [43.0,163.0]|\n",
       "+------+--------------+-----------+--------------+\n",
       "only showing top 20 rows\n",
       "\n",
       "</div>"
      ]
     },
     "metadata": {
      "application/vnd.databricks.v1+output": {
       "addedWidgets": {},
       "arguments": {},
       "data": "<div class=\"ansiout\">+------+--------------+-----------+--------------+\n|LSOA_6|firearms_count|drugs_count|      features|\n+------+--------------+-----------+--------------+\n|Carlis|            39|        166|  [39.0,166.0]|\n|Charnw|            76|        147|  [76.0,147.0]|\n|Leeds |           449|       1226|[449.0,1226.0]|\n|Stroud|            16|         52|   [16.0,52.0]|\n|Cotswo|             4|         28|    [4.0,28.0]|\n|Adur 0|            29|         40|   [29.0,40.0]|\n|Maldon|            21|         30|   [21.0,30.0]|\n|Harbor|            11|         24|   [11.0,24.0]|\n|Westmi|           241|        884| [241.0,884.0]|\n|Bolton|           174|        226| [174.0,226.0]|\n|Basing|           100|        172| [100.0,172.0]|\n|North |           549|       1057|[549.0,1057.0]|\n|Swanse|            71|        454|  [71.0,454.0]|\n|Winche|            30|        104|  [30.0,104.0]|\n|Bromsg|            25|         90|   [25.0,90.0]|\n|Luton |            93|        208|  [93.0,208.0]|\n|Slough|            99|        274|  [99.0,274.0]|\n|Amber |            29|        116|  [29.0,116.0]|\n|Isling|           133|        687| [133.0,687.0]|\n|Worces|            43|        163|  [43.0,163.0]|\n+------+--------------+-----------+--------------+\nonly showing top 20 rows\n\n</div>",
       "datasetInfos": [
        {
         "name": "new_df",
         "schema": {
          "fields": [
           {
            "metadata": {},
            "name": "LSOA_6",
            "nullable": true,
            "type": "string"
           },
           {
            "metadata": {},
            "name": "firearms_count",
            "nullable": true,
            "type": "long"
           },
           {
            "metadata": {},
            "name": "drugs_count",
            "nullable": true,
            "type": "long"
           },
           {
            "metadata": {
             "ml_attr": {
              "attrs": {
               "numeric": [
                {
                 "idx": 0,
                 "name": "firearms_count"
                },
                {
                 "idx": 1,
                 "name": "drugs_count"
                }
               ]
              },
              "num_attrs": 2
             }
            },
            "name": "features",
            "nullable": true,
            "type": {
             "class": "org.apache.spark.ml.linalg.VectorUDT",
             "pyClass": "pyspark.ml.linalg.VectorUDT",
             "sqlType": {
              "fields": [
               {
                "metadata": {},
                "name": "type",
                "nullable": false,
                "type": "byte"
               },
               {
                "metadata": {},
                "name": "size",
                "nullable": true,
                "type": "integer"
               },
               {
                "metadata": {},
                "name": "indices",
                "nullable": true,
                "type": {
                 "containsNull": false,
                 "elementType": "integer",
                 "type": "array"
                }
               },
               {
                "metadata": {},
                "name": "values",
                "nullable": true,
                "type": {
                 "containsNull": false,
                 "elementType": "double",
                 "type": "array"
                }
               }
              ],
              "type": "struct"
             },
             "type": "udt"
            }
           }
          ],
          "type": "struct"
         },
         "tableIdentifier": null,
         "typeStr": "pyspark.sql.dataframe.DataFrame"
        }
       ],
       "removedWidgets": [],
       "type": "html"
      }
     },
     "output_type": "display_data"
    }
   ],
   "source": [
    "# Let's do clustering and see how it pans out. \n",
    "vec = VectorAssembler(inputCols=[\"firearms_count\", \"drugs_count\"], outputCol=\"features\")\n",
    "new_df = vec.transform(df_final)\n",
    "new_df.show()"
   ]
  },
  {
   "cell_type": "code",
   "execution_count": 0,
   "metadata": {
    "application/vnd.databricks.v1+cell": {
     "inputWidgets": {},
     "nuid": "cbfe050f-54b1-473e-b97c-7e5df527e4f1",
     "showTitle": false,
     "title": ""
    }
   },
   "outputs": [
    {
     "data": {
      "text/html": [
       "<style scoped>\n",
       "  .ansiout {\n",
       "    display: block;\n",
       "    unicode-bidi: embed;\n",
       "    white-space: pre-wrap;\n",
       "    word-wrap: break-word;\n",
       "    word-break: break-all;\n",
       "    font-family: \"Source Code Pro\", \"Menlo\", monospace;;\n",
       "    font-size: 13px;\n",
       "    color: #555;\n",
       "    margin-left: 4px;\n",
       "    line-height: 19px;\n",
       "  }\n",
       "</style>\n",
       "<div class=\"ansiout\"></div>"
      ]
     },
     "metadata": {
      "application/vnd.databricks.v1+output": {
       "addedWidgets": {},
       "arguments": {},
       "data": "<div class=\"ansiout\"></div>",
       "datasetInfos": [],
       "removedWidgets": [],
       "type": "html"
      }
     },
     "output_type": "display_data"
    }
   ],
   "source": [
    "# Applying clustering to find more insights.\n",
    "kmeans = KMeans(k=4, seed=1) \n",
    "model = kmeans.fit(new_df.select('features'))"
   ]
  },
  {
   "cell_type": "code",
   "execution_count": 0,
   "metadata": {
    "application/vnd.databricks.v1+cell": {
     "inputWidgets": {},
     "nuid": "cc5d7a14-dc83-4032-ba0e-e0a43e6bb7a6",
     "showTitle": false,
     "title": ""
    }
   },
   "outputs": [
    {
     "data": {
      "text/html": [
       "<style scoped>\n",
       "  .ansiout {\n",
       "    display: block;\n",
       "    unicode-bidi: embed;\n",
       "    white-space: pre-wrap;\n",
       "    word-wrap: break-word;\n",
       "    word-break: break-all;\n",
       "    font-family: \"Source Code Pro\", \"Menlo\", monospace;;\n",
       "    font-size: 13px;\n",
       "    color: #555;\n",
       "    margin-left: 4px;\n",
       "    line-height: 19px;\n",
       "  }\n",
       "</style>\n",
       "<div class=\"ansiout\">+------+--------------+-----------+--------------+----------+\n",
       "LSOA_6|firearms_count|drugs_count|      features|prediction|\n",
       "+------+--------------+-----------+--------------+----------+\n",
       "Carlis|            39|        166|  [39.0,166.0]|         1|\n",
       "Charnw|            76|        147|  [76.0,147.0]|         1|\n",
       "Leeds |           449|       1226|[449.0,1226.0]|         3|\n",
       "+------+--------------+-----------+--------------+----------+\n",
       "only showing top 3 rows\n",
       "\n",
       "</div>"
      ]
     },
     "metadata": {
      "application/vnd.databricks.v1+output": {
       "addedWidgets": {},
       "arguments": {},
       "data": "<div class=\"ansiout\">+------+--------------+-----------+--------------+----------+\n|LSOA_6|firearms_count|drugs_count|      features|prediction|\n+------+--------------+-----------+--------------+----------+\n|Carlis|            39|        166|  [39.0,166.0]|         1|\n|Charnw|            76|        147|  [76.0,147.0]|         1|\n|Leeds |           449|       1226|[449.0,1226.0]|         3|\n+------+--------------+-----------+--------------+----------+\nonly showing top 3 rows\n\n</div>",
       "datasetInfos": [
        {
         "name": "transformed",
         "schema": {
          "fields": [
           {
            "metadata": {},
            "name": "LSOA_6",
            "nullable": true,
            "type": "string"
           },
           {
            "metadata": {},
            "name": "firearms_count",
            "nullable": true,
            "type": "long"
           },
           {
            "metadata": {},
            "name": "drugs_count",
            "nullable": true,
            "type": "long"
           },
           {
            "metadata": {
             "ml_attr": {
              "attrs": {
               "numeric": [
                {
                 "idx": 0,
                 "name": "firearms_count"
                },
                {
                 "idx": 1,
                 "name": "drugs_count"
                }
               ]
              },
              "num_attrs": 2
             }
            },
            "name": "features",
            "nullable": true,
            "type": {
             "class": "org.apache.spark.ml.linalg.VectorUDT",
             "pyClass": "pyspark.ml.linalg.VectorUDT",
             "sqlType": {
              "fields": [
               {
                "metadata": {},
                "name": "type",
                "nullable": false,
                "type": "byte"
               },
               {
                "metadata": {},
                "name": "size",
                "nullable": true,
                "type": "integer"
               },
               {
                "metadata": {},
                "name": "indices",
                "nullable": true,
                "type": {
                 "containsNull": false,
                 "elementType": "integer",
                 "type": "array"
                }
               },
               {
                "metadata": {},
                "name": "values",
                "nullable": true,
                "type": {
                 "containsNull": false,
                 "elementType": "double",
                 "type": "array"
                }
               }
              ],
              "type": "struct"
             },
             "type": "udt"
            }
           },
           {
            "metadata": {
             "ml_attr": {
              "num_vals": 4,
              "type": "nominal"
             }
            },
            "name": "prediction",
            "nullable": false,
            "type": "integer"
           }
          ],
          "type": "struct"
         },
         "tableIdentifier": null,
         "typeStr": "pyspark.sql.dataframe.DataFrame"
        }
       ],
       "removedWidgets": [],
       "type": "html"
      }
     },
     "output_type": "display_data"
    }
   ],
   "source": [
    "transformed = model.transform(new_df)\n",
    "transformed.show(3)  "
   ]
  },
  {
   "cell_type": "code",
   "execution_count": 0,
   "metadata": {
    "application/vnd.databricks.v1+cell": {
     "inputWidgets": {},
     "nuid": "f5b49912-447c-43de-a12d-1bdacb34ab51",
     "showTitle": false,
     "title": ""
    }
   },
   "outputs": [
    {
     "data": {
      "text/html": [
       "<style scoped>\n",
       "  .ansiout {\n",
       "    display: block;\n",
       "    unicode-bidi: embed;\n",
       "    white-space: pre-wrap;\n",
       "    word-wrap: break-word;\n",
       "    word-break: break-all;\n",
       "    font-family: \"Source Code Pro\", \"Menlo\", monospace;;\n",
       "    font-size: 13px;\n",
       "    color: #555;\n",
       "    margin-left: 4px;\n",
       "    line-height: 19px;\n",
       "  }\n",
       "</style>\n",
       "<div class=\"ansiout\"></div>"
      ]
     },
     "metadata": {
      "application/vnd.databricks.v1+output": {
       "addedWidgets": {},
       "arguments": {},
       "data": "<div class=\"ansiout\"></div>",
       "datasetInfos": [],
       "removedWidgets": [],
       "type": "html"
      }
     },
     "output_type": "display_data"
    }
   ],
   "source": [
    "# Clustering seems to be adding no value after some trials and visualisation."
   ]
  },
  {
   "cell_type": "markdown",
   "metadata": {
    "application/vnd.databricks.v1+cell": {
     "inputWidgets": {},
     "nuid": "2d274909-bd68-4281-a1aa-b7b65f612c61",
     "showTitle": false,
     "title": ""
    }
   },
   "source": [
    "##### Analysing datewise relationship between firearms and drugs."
   ]
  },
  {
   "cell_type": "code",
   "execution_count": 0,
   "metadata": {
    "application/vnd.databricks.v1+cell": {
     "inputWidgets": {},
     "nuid": "d495289a-a179-4ed5-9cd0-1b96097b3cae",
     "showTitle": false,
     "title": ""
    }
   },
   "outputs": [
    {
     "data": {
      "text/html": [
       "<style scoped>\n",
       "  .ansiout {\n",
       "    display: block;\n",
       "    unicode-bidi: embed;\n",
       "    white-space: pre-wrap;\n",
       "    word-wrap: break-word;\n",
       "    word-break: break-all;\n",
       "    font-family: \"Source Code Pro\", \"Menlo\", monospace;;\n",
       "    font-size: 13px;\n",
       "    color: #555;\n",
       "    margin-left: 4px;\n",
       "    line-height: 19px;\n",
       "  }\n",
       "</style>\n",
       "<div class=\"ansiout\">+----------+-----------------+\n",
       "     Month|firearm_monthwise|\n",
       "+----------+-----------------+\n",
       "2018-02-01|             3389|\n",
       "2018-05-01|             4175|\n",
       "2018-07-01|             3970|\n",
       "+----------+-----------------+\n",
       "only showing top 3 rows\n",
       "\n",
       "</div>"
      ]
     },
     "metadata": {
      "application/vnd.databricks.v1+output": {
       "addedWidgets": {},
       "arguments": {},
       "data": "<div class=\"ansiout\">+----------+-----------------+\n|     Month|firearm_monthwise|\n+----------+-----------------+\n|2018-02-01|             3389|\n|2018-05-01|             4175|\n|2018-07-01|             3970|\n+----------+-----------------+\nonly showing top 3 rows\n\n</div>",
       "datasetInfos": [
        {
         "name": "df_firearm_month",
         "schema": {
          "fields": [
           {
            "metadata": {},
            "name": "Month",
            "nullable": true,
            "type": "date"
           },
           {
            "metadata": {},
            "name": "firearm_monthwise",
            "nullable": true,
            "type": "long"
           }
          ],
          "type": "struct"
         },
         "tableIdentifier": null,
         "typeStr": "pyspark.sql.dataframe.DataFrame"
        }
       ],
       "removedWidgets": [],
       "type": "html"
      }
     },
     "output_type": "display_data"
    }
   ],
   "source": [
    "# A dataframe for month wise firearm.\n",
    "df_firearm_month=df_joined.groupBy('Month').agg(cnt_cond(F.col('Crime_type').isin(['Possession of weapons', 'Public disorder and weapons'])).alias('firearm_monthwise'))\n",
    "df_firearm_month.show(3)"
   ]
  },
  {
   "cell_type": "code",
   "execution_count": 0,
   "metadata": {
    "application/vnd.databricks.v1+cell": {
     "inputWidgets": {},
     "nuid": "d0ce36bc-ad8f-442f-b8cd-0344fa2ffaad",
     "showTitle": false,
     "title": ""
    }
   },
   "outputs": [
    {
     "data": {
      "text/html": [
       "<style scoped>\n",
       "  .ansiout {\n",
       "    display: block;\n",
       "    unicode-bidi: embed;\n",
       "    white-space: pre-wrap;\n",
       "    word-wrap: break-word;\n",
       "    word-break: break-all;\n",
       "    font-family: \"Source Code Pro\", \"Menlo\", monospace;;\n",
       "    font-size: 13px;\n",
       "    color: #555;\n",
       "    margin-left: 4px;\n",
       "    line-height: 19px;\n",
       "  }\n",
       "</style>\n",
       "<div class=\"ansiout\">+----------+---------------+\n",
       "     Month|drugs_monthwise|\n",
       "+----------+---------------+\n",
       "2018-02-01|          11416|\n",
       "2018-05-01|          12272|\n",
       "2018-07-01|          11076|\n",
       "+----------+---------------+\n",
       "only showing top 3 rows\n",
       "\n",
       "</div>"
      ]
     },
     "metadata": {
      "application/vnd.databricks.v1+output": {
       "addedWidgets": {},
       "arguments": {},
       "data": "<div class=\"ansiout\">+----------+---------------+\n|     Month|drugs_monthwise|\n+----------+---------------+\n|2018-02-01|          11416|\n|2018-05-01|          12272|\n|2018-07-01|          11076|\n+----------+---------------+\nonly showing top 3 rows\n\n</div>",
       "datasetInfos": [
        {
         "name": "df_drugs_month",
         "schema": {
          "fields": [
           {
            "metadata": {},
            "name": "Month",
            "nullable": true,
            "type": "date"
           },
           {
            "metadata": {},
            "name": "drugs_monthwise",
            "nullable": true,
            "type": "long"
           }
          ],
          "type": "struct"
         },
         "tableIdentifier": null,
         "typeStr": "pyspark.sql.dataframe.DataFrame"
        }
       ],
       "removedWidgets": [],
       "type": "html"
      }
     },
     "output_type": "display_data"
    }
   ],
   "source": [
    "# A dataframe for month wise drug incidents.\n",
    "df_drugs_month=df_joined.groupBy('Month').agg(cnt_cond(F.col('Crime_type') =='Drugs').alias('drugs_monthwise'))\n",
    "df_drugs_month.show(3)"
   ]
  },
  {
   "cell_type": "code",
   "execution_count": 0,
   "metadata": {
    "application/vnd.databricks.v1+cell": {
     "inputWidgets": {},
     "nuid": "a57ab26c-1f18-45af-94b7-893f2a13d5cf",
     "showTitle": false,
     "title": ""
    }
   },
   "outputs": [
    {
     "data": {
      "text/html": [
       "<style scoped>\n",
       "  .ansiout {\n",
       "    display: block;\n",
       "    unicode-bidi: embed;\n",
       "    white-space: pre-wrap;\n",
       "    word-wrap: break-word;\n",
       "    word-break: break-all;\n",
       "    font-family: \"Source Code Pro\", \"Menlo\", monospace;;\n",
       "    font-size: 13px;\n",
       "    color: #555;\n",
       "    margin-left: 4px;\n",
       "    line-height: 19px;\n",
       "  }\n",
       "</style>\n",
       "<div class=\"ansiout\">+----------+-----------------+---------------+\n",
       "     Month|firearm_monthwise|drugs_monthwise|\n",
       "+----------+-----------------+---------------+\n",
       "2018-02-01|             3389|          11416|\n",
       "2018-05-01|             4175|          12272|\n",
       "2018-07-01|             3970|          11076|\n",
       "+----------+-----------------+---------------+\n",
       "only showing top 3 rows\n",
       "\n",
       "</div>"
      ]
     },
     "metadata": {
      "application/vnd.databricks.v1+output": {
       "addedWidgets": {},
       "arguments": {},
       "data": "<div class=\"ansiout\">+----------+-----------------+---------------+\n|     Month|firearm_monthwise|drugs_monthwise|\n+----------+-----------------+---------------+\n|2018-02-01|             3389|          11416|\n|2018-05-01|             4175|          12272|\n|2018-07-01|             3970|          11076|\n+----------+-----------------+---------------+\nonly showing top 3 rows\n\n</div>",
       "datasetInfos": [
        {
         "name": "df_per_month",
         "schema": {
          "fields": [
           {
            "metadata": {},
            "name": "Month",
            "nullable": true,
            "type": "date"
           },
           {
            "metadata": {},
            "name": "firearm_monthwise",
            "nullable": true,
            "type": "long"
           },
           {
            "metadata": {},
            "name": "drugs_monthwise",
            "nullable": true,
            "type": "long"
           }
          ],
          "type": "struct"
         },
         "tableIdentifier": null,
         "typeStr": "pyspark.sql.dataframe.DataFrame"
        }
       ],
       "removedWidgets": [],
       "type": "html"
      }
     },
     "output_type": "display_data"
    }
   ],
   "source": [
    "# Joining drugs and firearms dataframes.\n",
    "df_per_month= df_firearm_month.join(df_drugs_month, on='Month', how='left_outer')\n",
    "df_per_month.show(3)"
   ]
  },
  {
   "cell_type": "code",
   "execution_count": 0,
   "metadata": {
    "application/vnd.databricks.v1+cell": {
     "inputWidgets": {},
     "nuid": "618a65ed-d4e6-495f-868c-c904bd08b11f",
     "showTitle": false,
     "title": ""
    }
   },
   "outputs": [
    {
     "data": {
      "text/html": [
       "<div>\n",
       "<style scoped>\n",
       "    .dataframe tbody tr th:only-of-type {\n",
       "        vertical-align: middle;\n",
       "    }\n",
       "\n",
       "    .dataframe tbody tr th {\n",
       "        vertical-align: top;\n",
       "    }\n",
       "\n",
       "    .dataframe thead th {\n",
       "        text-align: right;\n",
       "    }\n",
       "</style>\n",
       "<table border=\"1\" class=\"dataframe\">\n",
       "  <thead>\n",
       "    <tr style=\"text-align: right;\">\n",
       "      <th></th>\n",
       "      <th>Month</th>\n",
       "      <th>firearm_monthwise</th>\n",
       "      <th>drugs_monthwise</th>\n",
       "    </tr>\n",
       "  </thead>\n",
       "  <tbody>\n",
       "    <tr>\n",
       "      <th>0</th>\n",
       "      <td>2018-01-01</td>\n",
       "      <td>3508</td>\n",
       "      <td>12082</td>\n",
       "    </tr>\n",
       "    <tr>\n",
       "      <th>1</th>\n",
       "      <td>2018-02-01</td>\n",
       "      <td>3389</td>\n",
       "      <td>11416</td>\n",
       "    </tr>\n",
       "    <tr>\n",
       "      <th>2</th>\n",
       "      <td>2018-03-01</td>\n",
       "      <td>3755</td>\n",
       "      <td>11662</td>\n",
       "    </tr>\n",
       "  </tbody>\n",
       "</table>\n",
       "</div>"
      ]
     },
     "metadata": {
      "application/vnd.databricks.v1+output": {
       "addedWidgets": {},
       "arguments": {},
       "data": "<div>\n<style scoped>\n    .dataframe tbody tr th:only-of-type {\n        vertical-align: middle;\n    }\n\n    .dataframe tbody tr th {\n        vertical-align: top;\n    }\n\n    .dataframe thead th {\n        text-align: right;\n    }\n</style>\n<table border=\"1\" class=\"dataframe\">\n  <thead>\n    <tr style=\"text-align: right;\">\n      <th></th>\n      <th>Month</th>\n      <th>firearm_monthwise</th>\n      <th>drugs_monthwise</th>\n    </tr>\n  </thead>\n  <tbody>\n    <tr>\n      <th>0</th>\n      <td>2018-01-01</td>\n      <td>3508</td>\n      <td>12082</td>\n    </tr>\n    <tr>\n      <th>1</th>\n      <td>2018-02-01</td>\n      <td>3389</td>\n      <td>11416</td>\n    </tr>\n    <tr>\n      <th>2</th>\n      <td>2018-03-01</td>\n      <td>3755</td>\n      <td>11662</td>\n    </tr>\n  </tbody>\n</table>\n</div>",
       "datasetInfos": [],
       "removedWidgets": [],
       "textData": "<div class=\"ansiout\">/databricks/spark/python/pyspark/sql/types.py:1636: DeprecationWarning: Using or importing the ABCs from &#39;collections&#39; instead of from &#39;collections.abc&#39; is deprecated, and in 3.8 it will stop working\n  return pa.schema(fields)\nOut[22]: </div>",
       "type": "htmlSandbox"
      }
     },
     "output_type": "display_data"
    }
   ],
   "source": [
    "# Converting into pandas dataframe.\n",
    "pdf_month = (\n",
    "    df_per_month.select(\n",
    "        \"Month\",\n",
    "        \"firearm_monthwise\",\n",
    "         \"drugs_monthwise\")\n",
    "    .orderBy(\"Month\")\n",
    "    .toPandas()\n",
    ")\n",
    "pdf_month.head(3)"
   ]
  },
  {
   "cell_type": "code",
   "execution_count": 0,
   "metadata": {
    "application/vnd.databricks.v1+cell": {
     "inputWidgets": {},
     "nuid": "ca3a997f-af58-405d-9f28-a5a44e2fd903",
     "showTitle": false,
     "title": ""
    }
   },
   "outputs": [
    {
     "data": {
      "text/html": [
       "<style scoped>\n",
       "  .ansiout {\n",
       "    display: block;\n",
       "    unicode-bidi: embed;\n",
       "    white-space: pre-wrap;\n",
       "    word-wrap: break-word;\n",
       "    word-break: break-all;\n",
       "    font-family: \"Source Code Pro\", \"Menlo\", monospace;;\n",
       "    font-size: 13px;\n",
       "    color: #555;\n",
       "    margin-left: 4px;\n",
       "    line-height: 19px;\n",
       "  }\n",
       "</style>\n",
       "<div class=\"ansiout\">Out[24]: 0    3448.5\n",
       "1    3572.0\n",
       "2    3838.0\n",
       "Name: rolling_firearm, dtype: float64</div>"
      ]
     },
     "metadata": {
      "application/vnd.databricks.v1+output": {
       "addedWidgets": {},
       "arguments": {},
       "data": "<div class=\"ansiout\">Out[24]: 0    3448.5\n1    3572.0\n2    3838.0\nName: rolling_firearm, dtype: float64</div>",
       "datasetInfos": [],
       "removedWidgets": [],
       "type": "html"
      }
     },
     "output_type": "display_data"
    }
   ],
   "source": [
    "# Calculating rolling average for firearm by keeping window as 2.\n",
    "pdf_month['rolling_firearm'] = pdf_month['firearm_monthwise'].rolling(2).mean().shift(-1)\n",
    "pdf_month['rolling_firearm'].head(3)"
   ]
  },
  {
   "cell_type": "code",
   "execution_count": 0,
   "metadata": {
    "application/vnd.databricks.v1+cell": {
     "inputWidgets": {},
     "nuid": "b0215f04-ffcd-4ee5-b4bd-3e3cb451b1d5",
     "showTitle": false,
     "title": ""
    }
   },
   "outputs": [
    {
     "data": {
      "text/html": [
       "<style scoped>\n",
       "  .ansiout {\n",
       "    display: block;\n",
       "    unicode-bidi: embed;\n",
       "    white-space: pre-wrap;\n",
       "    word-wrap: break-word;\n",
       "    word-break: break-all;\n",
       "    font-family: \"Source Code Pro\", \"Menlo\", monospace;;\n",
       "    font-size: 13px;\n",
       "    color: #555;\n",
       "    margin-left: 4px;\n",
       "    line-height: 19px;\n",
       "  }\n",
       "</style>\n",
       "<div class=\"ansiout\">Out[28]: 0    11749.0\n",
       "1    11539.0\n",
       "2    11872.0\n",
       "Name: rolling_drugs, dtype: float64</div>"
      ]
     },
     "metadata": {
      "application/vnd.databricks.v1+output": {
       "addedWidgets": {},
       "arguments": {},
       "data": "<div class=\"ansiout\">Out[28]: 0    11749.0\n1    11539.0\n2    11872.0\nName: rolling_drugs, dtype: float64</div>",
       "datasetInfos": [],
       "removedWidgets": [],
       "type": "html"
      }
     },
     "output_type": "display_data"
    }
   ],
   "source": [
    "# Calculating rolling average for drugs by keeping window as 2.\n",
    "pdf_month['rolling_drugs'] = pdf_month['drugs_monthwise'].rolling(2).mean().shift(-1)\n",
    "pdf_month['rolling_drugs'].head(3)"
   ]
  },
  {
   "cell_type": "code",
   "execution_count": 0,
   "metadata": {
    "application/vnd.databricks.v1+cell": {
     "inputWidgets": {},
     "nuid": "78399215-1b0a-4f00-a9ef-f9b5c591a112",
     "showTitle": false,
     "title": ""
    }
   },
   "outputs": [
    {
     "data": {
      "image/png": "[encoded data removed]"
     },
     "metadata": {
      "application/vnd.databricks.v1+output": {
       "addedWidgets": {},
       "arguments": {},
       "data": "/plots/eedcacb2-02fd-4151-a59f-2e52aa6ba4ac.png",
       "datasetInfos": [],
       "removedWidgets": [],
       "type": "image"
      }
     },
     "output_type": "display_data"
    }
   ],
   "source": [
    "# Ploting monthwise variation for firearm vs drugs.\n",
    "plt.figure(figsize=(9,6))\n",
    "sns.lineplot(x=\"Month\",y=\"firearm_monthwise\",\n",
    "             data=pdf_month,\n",
    "             ci=None)\n",
    "sns.lineplot(x=\"Month\",y=\"rolling_firearm\",\n",
    "             data=pdf_month,\n",
    "             ci=None)\n",
    "sns.lineplot(x=\"Month\",y=\"drugs_monthwise\",\n",
    "             data=pdf_month,\n",
    "             ci=None)\n",
    "sns.lineplot(x=\"Month\",y=\"rolling_drugs\",\n",
    "             data=pdf_month,\n",
    "             ci=None)\n",
    "plt.legend(labels=['firearm_mothwise', 'rolling_firearm', 'drugs_monthwise', 'rolling_drugs'])\n",
    "plt.title('monthwise firearm vs drugs')\n",
    "plt.xlabel(\"Date\", size=14)\n",
    "plt.ylabel(\"number of crimes\", size=14)"
   ]
  },
  {
   "cell_type": "markdown",
   "metadata": {
    "application/vnd.databricks.v1+cell": {
     "inputWidgets": {},
     "nuid": "23fd9dd8-ffcb-4c6c-a828-b08c39b012d4",
     "showTitle": false,
     "title": ""
    }
   },
   "source": [
    "##### Validation of Claim-3: A correlation of 0.85 indicates that there is a strong ralationship between firearms and drugs. So, claim 3 is justified. Further, scatter plot makes the relationship clearly visible."
   ]
  },
  {
   "cell_type": "markdown",
   "metadata": {},
   "source": [
    "<br/><br/>"
   ]
  },
  {
   "cell_type": "markdown",
   "metadata": {},
   "source": [
    "<font size='4'><b>Final thoughts:</b> Using 2018 dataset, we have accepted two hypothesis and rejected one. Generally speaking, rejected hypothesis (Birmingham case) is also somewhat true as it in the 29th position out of 309, but it can't be called as the highest. Other two hypothesis are accurate. Violent crime's gradual increase can't be inferred as police forces' failure alone, but can also be related to growing frustration. Further research has to be made in connection with that. Here, all weapons are considered as firearms because of lack of publicly available data to dig deeper. Relationship between drugs and firearms is quite universal and only needs common sense to understand.</font>"
   ]
  }
 ],
 "metadata": {
  "application/vnd.databricks.v1+notebook": {
   "dashboards": [],
   "language": "python",
   "notebookName": "UK_Crime",
   "notebookOrigID": 3816415952615335,
   "widgets": {}
  },
  "kernelspec": {
   "display_name": "Python 3",
   "language": "python",
   "name": "python3"
  },
  "language_info": {
   "codemirror_mode": {
    "name": "ipython",
    "version": 3
   },
   "file_extension": ".py",
   "mimetype": "text/x-python",
   "name": "python",
   "nbconvert_exporter": "python",
   "pygments_lexer": "ipython3",
   "version": "3.8.3"
  }
 },
 "nbformat": 4,
 "nbformat_minor": 1
}
